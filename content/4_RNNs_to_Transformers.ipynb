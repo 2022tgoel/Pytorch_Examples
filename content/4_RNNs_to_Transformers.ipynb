{
 "cells": [
  {
   "cell_type": "markdown",
   "id": "e743d96b-981d-4a8a-9ae1-0e1758c1333f",
   "metadata": {},
   "source": [
    "# RNNs to Transformers\n",
    "This notebook shows how to create models that translate between languanges\n",
    "\n",
    "I will slowly build up the complexity of the model:\n",
    "1. Starting with a seq2seq architecture without attention,\n",
    "2. Adding in attention,\n",
    "3. Then using a transformer"
   ]
  },
  {
   "cell_type": "code",
   "execution_count": 1,
   "id": "8a666a61-e9de-440e-91c0-7b2fa7fecb87",
   "metadata": {},
   "outputs": [
    {
     "name": "stderr",
     "output_type": "stream",
     "text": [
      "/home/tarushii/anaconda3/envs/torch/lib/python3.8/site-packages/tqdm/auto.py:22: TqdmWarning: IProgress not found. Please update jupyter and ipywidgets. See https://ipywidgets.readthedocs.io/en/stable/user_install.html\n",
      "  from .autonotebook import tqdm as notebook_tqdm\n"
     ]
    }
   ],
   "source": [
    "from io import open\n",
    "import unicodedata\n",
    "import string\n",
    "import re\n",
    "import random\n",
    "import math\n",
    "\n",
    "import numpy as np\n",
    "import torch\n",
    "import torch.nn as nn\n",
    "from torch import optim\n",
    "import torch.nn.functional as F\n",
    "from torch.utils.data import Dataset, DataLoader\n",
    "from torch.autograd import Variable\n",
    "from torch.nn.utils.rnn import pad_sequence, pack_padded_sequence, pad_packed_sequence\n",
    "from tqdm import tqdm\n",
    "import matplotlib.pyplot as plt\n",
    "\n",
    "device = torch.device(\"cuda\" if torch.cuda.is_available() else \"cpu\")"
   ]
  },
  {
   "cell_type": "markdown",
   "id": "1518938d-7ad0-4014-99f0-a3e15805fcce",
   "metadata": {},
   "source": [
    "## Data Preparation\n",
    "Using the dataset/data prep code in this tutorial: https://pytorch.org/tutorials/intermediate/seq2seq_translation_tutorial.html"
   ]
  },
  {
   "cell_type": "code",
   "execution_count": 3,
   "id": "7c935181-74b7-44c4-a3cb-77e3de097da3",
   "metadata": {},
   "outputs": [
    {
     "name": "stdout",
     "output_type": "stream",
     "text": [
      "  % Total    % Received % Xferd  Average Speed   Time    Time     Time  Current\n",
      "                                 Dload  Upload   Total   Spent    Left  Speed\n",
      "100 2814k  100 2814k    0     0  27.2M      0 --:--:-- --:--:-- --:--:-- 27.2M\n"
     ]
    }
   ],
   "source": [
    "!curl https://download.pytorch.org/tutorial/data.zip --output data.zip"
   ]
  },
  {
   "cell_type": "code",
   "execution_count": 5,
   "id": "dd8427ec-740c-4ade-9fcd-9753a004fc8e",
   "metadata": {},
   "outputs": [
    {
     "name": "stdout",
     "output_type": "stream",
     "text": [
      "Archive:  data.zip\n",
      "  inflating: ./data/eng-fra.txt      \n",
      "   creating: ./data/names/\n",
      "  inflating: ./data/names/Arabic.txt  \n",
      "  inflating: ./data/names/Chinese.txt  \n",
      "  inflating: ./data/names/Czech.txt  \n",
      "  inflating: ./data/names/Dutch.txt  \n",
      "  inflating: ./data/names/English.txt  \n",
      "  inflating: ./data/names/French.txt  \n",
      "  inflating: ./data/names/German.txt  \n",
      "  inflating: ./data/names/Greek.txt  \n",
      "  inflating: ./data/names/Irish.txt  \n",
      "  inflating: ./data/names/Italian.txt  \n",
      "  inflating: ./data/names/Japanese.txt  \n",
      "  inflating: ./data/names/Korean.txt  \n",
      "  inflating: ./data/names/Polish.txt  \n",
      "  inflating: ./data/names/Portuguese.txt  \n",
      "  inflating: ./data/names/Russian.txt  \n",
      "  inflating: ./data/names/Scottish.txt  \n",
      "  inflating: ./data/names/Spanish.txt  \n",
      "  inflating: ./data/names/Vietnamese.txt  \n"
     ]
    }
   ],
   "source": [
    "!unzip data.zip -d ./"
   ]
  },
  {
   "cell_type": "code",
   "execution_count": 2,
   "id": "31748a5a-275f-462e-a4cf-10d2d1915f29",
   "metadata": {},
   "outputs": [
    {
     "name": "stdout",
     "output_type": "stream",
     "text": [
      "Reading lines...\n",
      "Read 135842 sentence pairs\n",
      "Trimmed to 10599 sentence pairs\n",
      "Counting words...\n",
      "Counted words:\n",
      "fra 4345\n",
      "eng 2803\n",
      "['je suis certain de pouvoir faire mieux .', 'i m sure i can do better .']\n"
     ]
    }
   ],
   "source": [
    "class Lang:\n",
    "    def __init__(self, name):\n",
    "        self.name = name\n",
    "        self.word2index = {\"SOS\" : 1, \"EOS\" : 2}\n",
    "        self.word2count = {}\n",
    "        self.index2word = {1: \"SOS\", 2: \"EOS\"}\n",
    "        self.n_words = 2  # Count SOS and EOS\n",
    "\n",
    "    def addSentence(self, sentence):\n",
    "        for word in sentence.split(' '):\n",
    "            self.addWord(word)\n",
    "\n",
    "    def addWord(self, word):\n",
    "        if word not in self.word2index:\n",
    "            idx = self.n_words+1\n",
    "            self.word2index[word] = idx\n",
    "            self.word2count[word] = 1\n",
    "            self.index2word[idx] = word\n",
    "            self.n_words += 1\n",
    "        else:\n",
    "            self.word2count[word] += 1\n",
    "\n",
    "# Turn a Unicode string to plain ASCII, thanks to\n",
    "# https://stackoverflow.com/a/518232/2809427\n",
    "def unicodeToAscii(s):\n",
    "    return ''.join(\n",
    "        c for c in unicodedata.normalize('NFD', s)\n",
    "        if unicodedata.category(c) != 'Mn'\n",
    "    )\n",
    "\n",
    "def normalizeString(s):\n",
    "    s = unicodeToAscii(s.lower().strip())\n",
    "    s = re.sub(r\"([.!?])\", r\" \\1\", s) # adds a space before puncutation, because there has to be a space between each token.  \n",
    "    s = re.sub(r\"[^a-zA-Z.!?]+\", r\" \", s) # replaces punctuation (e.g. apostrophes) with a space\n",
    "    return s\n",
    "\n",
    "def readLangs(lang1, lang2, reverse=False):\n",
    "    print(\"Reading lines...\")\n",
    "\n",
    "    # Read the file and split into lines\n",
    "    lines = open('data/%s-%s.txt' % (lang1, lang2), encoding='utf-8').read().strip().split('\\n')\n",
    "\n",
    "    # Split every line into pairs and normalize\n",
    "    pairs = [[normalizeString(s) for s in l.split('\\t')] for l in lines]\n",
    "\n",
    "    # Reverse pairs, make Lang instances\n",
    "    if reverse:\n",
    "        pairs = [list(reversed(p)) for p in pairs]\n",
    "        input_lang = Lang(lang2)\n",
    "        output_lang = Lang(lang1)\n",
    "    else:\n",
    "        input_lang = Lang(lang1)\n",
    "        output_lang = Lang(lang2)\n",
    "\n",
    "    return input_lang, output_lang, pairs\n",
    "\n",
    "MAX_LENGTH = 10\n",
    "\n",
    "eng_prefixes = (\n",
    "    \"i am \", \"i m \",\n",
    "    \"he is\", \"he s \",\n",
    "    \"she is\", \"she s \",\n",
    "    \"you are\", \"you re \",\n",
    "    \"we are\", \"we re \",\n",
    "    \"they are\", \"they re \"\n",
    ")\n",
    "\n",
    "\n",
    "def filterPair(p):\n",
    "    return len(p[0].split(' ')) < MAX_LENGTH and \\\n",
    "        len(p[1].split(' ')) < MAX_LENGTH and \\\n",
    "        p[1].startswith(eng_prefixes)\n",
    "\n",
    "\n",
    "def filterPairs(pairs):\n",
    "    return [pair for pair in pairs if filterPair(pair)]\n",
    "\n",
    "def prepareData(lang1, lang2, reverse=False):\n",
    "    input_lang, output_lang, pairs = readLangs(lang1, lang2, reverse)\n",
    "    print(\"Read %s sentence pairs\" % len(pairs))\n",
    "    pairs = filterPairs(pairs)\n",
    "    print(\"Trimmed to %s sentence pairs\" % len(pairs))\n",
    "    print(\"Counting words...\")\n",
    "    for pair in pairs:\n",
    "        input_lang.addSentence(pair[0])\n",
    "        output_lang.addSentence(pair[1])\n",
    "    print(\"Counted words:\")\n",
    "    print(input_lang.name, input_lang.n_words)\n",
    "    print(output_lang.name, output_lang.n_words)\n",
    "    return input_lang, output_lang, pairs\n",
    "\n",
    "\n",
    "french_lang, english_lang, pairs = prepareData('eng', 'fra', True)\n",
    "print(random.choice(pairs))"
   ]
  },
  {
   "cell_type": "code",
   "execution_count": 3,
   "id": "c50def46-6342-4cd6-97de-bf88e7803602",
   "metadata": {},
   "outputs": [],
   "source": [
    "def convert_to_tensor(lang, sentence):\n",
    "    sentence = [lang.word2index[word] for word in sentence.split(' ')]\n",
    "    sentence.append(lang.word2index[\"EOS\"])\n",
    "    return torch.tensor(sentence, dtype=torch.long)\n",
    "\n",
    "\n",
    "class SentenceDataset(Dataset):\n",
    "    def __init__(self, lang1, lang2, pairs):\n",
    "        self.lang1 = lang1\n",
    "        self.lang2 = lang2\n",
    "        self.pairs = []\n",
    "        for i in range(len(pairs)):\n",
    "            s1, s2 = pairs[i]\n",
    "            self.pairs.append([convert_to_tensor(lang1, s1), convert_to_tensor(lang2,s2)])\n",
    "    def __getitem__(self, idx):\n",
    "        return self.pairs[idx][0], self.pairs[idx][1]\n",
    "    def __len__(self):\n",
    "        return len(self.pairs)\n",
    "\n",
    "def pad_collate(batch):\n",
    "    x, y = zip(*batch)\n",
    "    x_lens = torch.tensor([len(i) for i in x])\n",
    "    y_lens = torch.tensor([len(i) for i in y])\n",
    "    x_pad = pad_sequence(x, padding_value=0)\n",
    "    y_pad = pad_sequence(y, padding_value=0)\n",
    "    \n",
    "    # sort \n",
    "    x_lens, idx = x_lens.sort(0, descending=True)\n",
    "    y_lens = y_lens[idx]\n",
    "    x_pad = x_pad[:, idx]\n",
    "    y_pad = y_pad[:, idx]\n",
    "    \n",
    "    return x_pad, y_pad, x_lens, y_lens\n",
    "\n",
    "dataset = SentenceDataset(french_lang, english_lang, pairs)\n",
    "data_loader = DataLoader(dataset, batch_size=32, shuffle=False, collate_fn=pad_collate)"
   ]
  },
  {
   "cell_type": "code",
   "execution_count": 4,
   "id": "ebc52295-f136-456e-ba87-132cb3e63d41",
   "metadata": {},
   "outputs": [
    {
     "data": {
      "text/plain": [
       "['ca va .', 'i m ok .']"
      ]
     },
     "execution_count": 4,
     "metadata": {},
     "output_type": "execute_result"
    }
   ],
   "source": [
    "pairs[2]"
   ]
  },
  {
   "cell_type": "code",
   "execution_count": 5,
   "id": "564c3fd2-5af5-48fe-b11c-60c56d9996ce",
   "metadata": {},
   "outputs": [
    {
     "data": {
      "text/plain": [
       "(tensor([ 7, 12, 22,  6,  2]), tensor([ 3,  4, 13,  5,  2]))"
      ]
     },
     "execution_count": 5,
     "metadata": {},
     "output_type": "execute_result"
    }
   ],
   "source": [
    "dataset[10]"
   ]
  },
  {
   "cell_type": "code",
   "execution_count": 4,
   "id": "641bc5d1-7ae9-4e6c-95ba-de9e4f83f3b0",
   "metadata": {},
   "outputs": [
    {
     "data": {
      "text/plain": [
       "tensor([ 7, 12, 15, 16,  6,  2])"
      ]
     },
     "execution_count": 4,
     "metadata": {},
     "output_type": "execute_result"
    }
   ],
   "source": [
    "next(iter(data_loader))[0][:, 0] # sentence length x batch_size"
   ]
  },
  {
   "cell_type": "markdown",
   "id": "f1057038-3c57-4c24-9be6-ab8c8bc7d518",
   "metadata": {},
   "source": [
    "## 1. Basic RNN Model"
   ]
  },
  {
   "cell_type": "code",
   "execution_count": 7,
   "id": "0e27bd58-2d13-4f6f-9962-70f8bdc902fd",
   "metadata": {},
   "outputs": [],
   "source": [
    "# packing sequences: https://gist.github.com/HarshTrivedi/f4e7293e941b17d19058f6fb90ab0fec\n",
    "\n",
    "class EncoderRNN(nn.Module):\n",
    "    def __init__(self, dict_size, hidden_size):\n",
    "        super(EncoderRNN, self).__init__()\n",
    "        self.hidden_size = hidden_size\n",
    "        self.embedding = nn.Embedding(dict_size, hidden_size)\n",
    "        self.gru = nn.GRU(hidden_size, hidden_size)\n",
    "    def forward(self, x, lens):\n",
    "        input = self.embedding(x)\n",
    "        input = pack_padded_sequence(input, lens)\n",
    "        output, hidden = self.gru(input, torch.zeros(1, x.shape[1], self.hidden_size))\n",
    "        return output, hidden \n",
    "    \n",
    "class DecoderRNN(nn.Module):\n",
    "    def __init__(self, dict_size, hidden_size):\n",
    "        super(DecoderRNN, self).__init__()\n",
    "        self.hidden_size = hidden_size\n",
    "        self.embedding = nn.Embedding(dict_size, hidden_size)\n",
    "        self.gru = nn.GRU(hidden_size, hidden_size)\n",
    "        self.out = nn.Linear(hidden_size, dict_size)\n",
    "        self.softmax = nn.LogSoftmax(dim=1)\n",
    "\n",
    "    def forward(self, x, hidden, encoder_outputs):\n",
    "        input = self.embedding(x)\n",
    "        input = F.relu(input)\n",
    "        output, hidden = self.gru(input, hidden)\n",
    "        output = self.softmax(self.out(output[0]))\n",
    "        return output, hidden"
   ]
  },
  {
   "cell_type": "code",
   "execution_count": 8,
   "id": "ecc202ac-f97c-422c-9f65-aa4b07012e1b",
   "metadata": {},
   "outputs": [],
   "source": [
    "hidden_size = 256\n",
    "learning_rate = 0.05\n",
    "encoder = EncoderRNN(french_lang.n_words+1, hidden_size)\n",
    "decoder = DecoderRNN(english_lang.n_words+1, hidden_size) #+1 required for padding token (token 0)\n",
    "encoder_optimizer = optim.SGD(encoder.parameters(), lr=learning_rate)\n",
    "decoder_optimizer = optim.SGD(decoder.parameters(), lr=learning_rate)\n",
    "criterion = nn.NLLLoss(ignore_index=0) # should not calculate loss if the ith word is a padding token (0)"
   ]
  },
  {
   "cell_type": "code",
   "execution_count": 11,
   "id": "b074ecee-9cd6-41bf-a20d-4d67d25b8dc4",
   "metadata": {},
   "outputs": [
    {
     "name": "stderr",
     "output_type": "stream",
     "text": [
      "100%|██████████| 332/332 [00:07<00:00, 43.26it/s]\n"
     ]
    },
    {
     "name": "stdout",
     "output_type": "stream",
     "text": [
      "Loss: 1.036394715309143\n"
     ]
    },
    {
     "name": "stderr",
     "output_type": "stream",
     "text": [
      "100%|██████████| 332/332 [00:07<00:00, 43.38it/s]\n"
     ]
    },
    {
     "name": "stdout",
     "output_type": "stream",
     "text": [
      "Loss: 0.9837220907211304\n"
     ]
    },
    {
     "name": "stderr",
     "output_type": "stream",
     "text": [
      "100%|██████████| 332/332 [00:07<00:00, 43.39it/s]\n"
     ]
    },
    {
     "name": "stdout",
     "output_type": "stream",
     "text": [
      "Loss: 0.9020172357559204\n"
     ]
    },
    {
     "name": "stderr",
     "output_type": "stream",
     "text": [
      "100%|██████████| 332/332 [00:07<00:00, 43.40it/s]\n"
     ]
    },
    {
     "name": "stdout",
     "output_type": "stream",
     "text": [
      "Loss: 0.8330768346786499\n"
     ]
    },
    {
     "name": "stderr",
     "output_type": "stream",
     "text": [
      "100%|██████████| 332/332 [00:07<00:00, 43.38it/s]\n"
     ]
    },
    {
     "name": "stdout",
     "output_type": "stream",
     "text": [
      "Loss: 0.7824727296829224\n"
     ]
    },
    {
     "name": "stderr",
     "output_type": "stream",
     "text": [
      "100%|██████████| 332/332 [00:07<00:00, 43.40it/s]\n"
     ]
    },
    {
     "name": "stdout",
     "output_type": "stream",
     "text": [
      "Loss: 0.7602018713951111\n"
     ]
    },
    {
     "name": "stderr",
     "output_type": "stream",
     "text": [
      "100%|██████████| 332/332 [00:07<00:00, 43.46it/s]\n"
     ]
    },
    {
     "name": "stdout",
     "output_type": "stream",
     "text": [
      "Loss: 0.7024868130683899\n"
     ]
    },
    {
     "name": "stderr",
     "output_type": "stream",
     "text": [
      "100%|██████████| 332/332 [00:07<00:00, 43.60it/s]\n"
     ]
    },
    {
     "name": "stdout",
     "output_type": "stream",
     "text": [
      "Loss: 0.6708623766899109\n"
     ]
    },
    {
     "name": "stderr",
     "output_type": "stream",
     "text": [
      "100%|██████████| 332/332 [00:07<00:00, 43.70it/s]\n"
     ]
    },
    {
     "name": "stdout",
     "output_type": "stream",
     "text": [
      "Loss: 0.606452226638794\n"
     ]
    },
    {
     "name": "stderr",
     "output_type": "stream",
     "text": [
      "100%|██████████| 332/332 [00:07<00:00, 43.55it/s]\n"
     ]
    },
    {
     "name": "stdout",
     "output_type": "stream",
     "text": [
      "Loss: 0.5697213411331177\n"
     ]
    },
    {
     "name": "stderr",
     "output_type": "stream",
     "text": [
      "100%|██████████| 332/332 [00:07<00:00, 43.46it/s]\n"
     ]
    },
    {
     "name": "stdout",
     "output_type": "stream",
     "text": [
      "Loss: 0.5355191826820374\n"
     ]
    },
    {
     "name": "stderr",
     "output_type": "stream",
     "text": [
      "100%|██████████| 332/332 [00:07<00:00, 43.36it/s]\n"
     ]
    },
    {
     "name": "stdout",
     "output_type": "stream",
     "text": [
      "Loss: 0.5133482813835144\n"
     ]
    },
    {
     "name": "stderr",
     "output_type": "stream",
     "text": [
      "100%|██████████| 332/332 [00:07<00:00, 43.70it/s]\n"
     ]
    },
    {
     "name": "stdout",
     "output_type": "stream",
     "text": [
      "Loss: 0.4967331886291504\n"
     ]
    },
    {
     "name": "stderr",
     "output_type": "stream",
     "text": [
      "100%|██████████| 332/332 [00:07<00:00, 43.78it/s]\n"
     ]
    },
    {
     "name": "stdout",
     "output_type": "stream",
     "text": [
      "Loss: 0.45299190282821655\n"
     ]
    },
    {
     "name": "stderr",
     "output_type": "stream",
     "text": [
      "100%|██████████| 332/332 [00:07<00:00, 43.75it/s]"
     ]
    },
    {
     "name": "stdout",
     "output_type": "stream",
     "text": [
      "Loss: 0.42356744408607483\n"
     ]
    },
    {
     "name": "stderr",
     "output_type": "stream",
     "text": [
      "\n"
     ]
    }
   ],
   "source": [
    "SOSToken = 1\n",
    "EOSToken = 2\n",
    "\n",
    "def step(x, y, x_lens, y_lens):\n",
    "    encoder.train(True)\n",
    "    decoder.train(True)\n",
    "    encoder_outputs, decoder_hidden = encoder(x, x_lens) # last encoder hidden state becomes decoder hidden state\n",
    "    decoder_input = torch.full((1, decoder_hidden.shape[1]), english_lang.word2index['SOS'])\n",
    "    # no teacher forcing for now, could add in later\n",
    "    loss = 0\n",
    "    target_length = max(y_lens)\n",
    "    for i in range(target_length):\n",
    "        # decoder_input: (1 x 32 x 1)\n",
    "        # decoder_hidden: (1 x 32 x 256)\n",
    "        decoder_output, decoder_hidden = decoder(decoder_input, decoder_hidden, encoder_outputs)\n",
    "        # decoder_output: (32 x dict_size)\n",
    "        topv, topi = decoder_output.topk(1, dim=1)\n",
    "        decoder_input = topi.transpose(0, 1)\n",
    "        \n",
    "        loss += criterion(decoder_output, y[i, :].squeeze()).sum() \n",
    "        \n",
    "    loss.backward()\n",
    "\n",
    "    encoder_optimizer.step()\n",
    "    decoder_optimizer.step()\n",
    "    encoder_optimizer.zero_grad()\n",
    "    decoder_optimizer.zero_grad()\n",
    "    \n",
    "    return loss.item() / target_length\n",
    "\n",
    "\n",
    "def run_epoch(data_loader):\n",
    "    total_loss = 0\n",
    "    num_iters = 0\n",
    "    for x, y, x_lens, y_lens in tqdm(data_loader):\n",
    "        total_loss += step(x, y, x_lens, y_lens)\n",
    "        num_iters += 1\n",
    "    return total_loss/num_iters\n",
    "\n",
    "def train(data_loader, num_epochs=30):\n",
    "    losses = []\n",
    "    for i in range(num_epochs):\n",
    "        losses.append(run_epoch(data_loader))\n",
    "        print(f\"Loss: {losses[-1]}\")\n",
    "    return losses\n",
    "        \n",
    "losses = train(data_loader, num_epochs=15)"
   ]
  },
  {
   "cell_type": "code",
   "execution_count": 12,
   "id": "8e3eada5-0618-4985-9332-22d7e9ef441d",
   "metadata": {},
   "outputs": [
    {
     "name": "stdout",
     "output_type": "stream",
     "text": [
      "je suis trop affaire . EOS\n",
      "i m too busy . EOS\n",
      "SOS i am too busy too too . . EOS\n",
      "\n",
      "c est une celebre chanteuse . EOS\n",
      "she is a famous singer . EOS\n",
      "SOS she is a famous singer singer . . EOS\n",
      "\n",
      "elles sont chanceuses d etre en vie . EOS\n",
      "they re lucky to be alive . EOS\n",
      "SOS they re lucky to be your alive . EOS\n",
      "\n",
      "je suis desolee de vous avoir derangees ! EOS\n",
      "i m sorry to have bothered you . EOS\n",
      "SOS i m sorry to have bothered you you . EOS\n",
      "\n",
      "je suis fier de mon pere . EOS\n",
      "i m proud of my father . EOS\n",
      "SOS i m proud of my my father . EOS\n",
      "\n",
      "je ne suis pas impressionnee . EOS\n",
      "i m not impressed . EOS\n",
      "SOS i m not impressed impressed . EOS\n",
      "\n",
      "je me sens triste a cause de ca . EOS\n",
      "i am feeling sad about it . EOS\n",
      "SOS i am really sad about about it it . EOS\n",
      "\n",
      "j y songe encore . EOS\n",
      "i m still thinking about it . EOS\n",
      "SOS i m still thinking about it it . EOS\n",
      "\n",
      "elle est deux ans plus vieille que toi . EOS\n",
      "she is two years older than you . EOS\n",
      "SOS she is two years older than you . EOS\n",
      "\n",
      "je suis juste un monsieur tout le monde . EOS\n",
      "i am just a nobody . EOS\n",
      "SOS i am just a to just a teacher . EOS\n",
      "\n"
     ]
    }
   ],
   "source": [
    "def convert_to_lang(sentence, lang):\n",
    "    text = [lang.index2word[sentence[i]] for i in range(len(sentence))]\n",
    "    return ' '.join(text)\n",
    "\n",
    "def eval_on_sentence(x):\n",
    "    encoder.eval()\n",
    "    decoder.eval()\n",
    "    x = x.view(-1, 1)\n",
    "    input = encoder.embedding(x)\n",
    "    x_len = torch.tensor([x.shape[0]])\n",
    "    input = pack_padded_sequence(input, x_len)\n",
    "    encoder_outputs, decoder_hidden = encoder(x, x_len) # last encoder hidden state becomes decoder hidden state\n",
    "    y_pred = [english_lang.word2index['SOS']]\n",
    "    decoder_input = torch.full((1, decoder_hidden.shape[1]), y_pred[-1])\n",
    "\n",
    "    while y_pred[-1]!=EOSToken: # 2 is the EOSToken\n",
    "        decoder_output, decoder_hidden = decoder(decoder_input, decoder_hidden, encoder_outputs)\n",
    "        topv, topi = decoder_output.topk(1, dim=1)\n",
    "        decoder_input = topi.transpose(0, 1)\n",
    "        y_pred.append(topi.item())\n",
    "        \n",
    "    return y_pred\n",
    "        \n",
    "def eval_on_sentences(dataset, lang1, lang2, num=10):\n",
    "    for i in range(num):\n",
    "        idx = random.randrange(len(dataset))\n",
    "        x, y = dataset[idx]\n",
    "        y_pred = eval_on_sentence(x)\n",
    "        print(convert_to_lang(x.numpy(), lang1))\n",
    "        print(convert_to_lang(y.numpy(), lang2))\n",
    "        print(convert_to_lang(y_pred, lang2))\n",
    "        print()\n",
    "              \n",
    "eval_on_sentences(dataset, french_lang, english_lang)"
   ]
  },
  {
   "cell_type": "markdown",
   "id": "f972d770-62b6-4cc9-9c17-6a9d18a638dd",
   "metadata": {},
   "source": [
    "## 2. RNNs with Attention\n",
    "https://arxiv.org/pdf/1409.0473.pdf \\\n",
    "https://github.com/lukysummer/Bahdanau-Attention-in-Pytorch"
   ]
  },
  {
   "cell_type": "code",
   "execution_count": 73,
   "id": "51774a1d-462c-4c69-8d4f-e1b05f611297",
   "metadata": {},
   "outputs": [],
   "source": [
    "class AttentionDecoderRNN(nn.Module):\n",
    "    def __init__(self, dict_size, hidden_size):\n",
    "        super(AttentionDecoderRNN, self).__init__()\n",
    "        self.hidden_size = hidden_size\n",
    "        # 1.\n",
    "        self.embedding = nn.Embedding(dict_size, hidden_size)\n",
    "        # 2.\n",
    "        self.attn_combine = nn.Linear(hidden_size*2, hidden_size)\n",
    "        self.attn_weight = nn.Linear(hidden_size, 1)\n",
    "        # 3.\n",
    "        self.gru = nn.GRU(hidden_size*2, hidden_size)\n",
    "        self.out = nn.Linear(hidden_size, dict_size)\n",
    "        self.softmax = nn.LogSoftmax(dim=1)\n",
    "\n",
    "    def forward(self, x, hidden, encoder_outputs):\n",
    "        # input : 1 x 32 x 256\n",
    "        # hidden: 1 x 32 x 256\n",
    "        # encoder_outputs: sentence_len x 32 x 256\n",
    "        # 1. \n",
    "        input = self.embedding(x)\n",
    "        input = F.relu(input)\n",
    "        # 2. \n",
    "        encoder_outputs = pad_packed_sequence(encoder_outputs)[0]\n",
    "        #print(encoder_outputs.shape)\n",
    "        num_outputs = encoder_outputs.shape[0]\n",
    "        combined_vector = torch.cat((hidden.repeat(num_outputs, 1, 1), encoder_outputs), dim=2)\n",
    "        #print(combined_vector.shape)\n",
    "        combined_vector = F.tanh(self.attn_combine(combined_vector)) # sentence_len x 32 x 256\n",
    "        #print(combined_vector.shape)\n",
    "        self.attn_weights = F.softmax(self.attn_weight(combined_vector), dim=0) # sentence_len x 32 x 1\n",
    "        #print(self.attn_weights.shape)\n",
    "        encoder_outputs_t = encoder_outputs.transpose(0, 1).transpose(1, 2) # 32 x 256 x sentence_len\n",
    "        #print(encoder_outputs_t.shape)\n",
    "        context_vector = torch.bmm(encoder_outputs_t, self.attn_weights.transpose(1, 0)) # 32 x 256 x 1\n",
    "        context_vector = context_vector.transpose(1, 2).transpose(0, 1) # 1 x 32 x 256 \n",
    "        #print(context_vector.shape)\n",
    "        # 3. \n",
    "        input = torch.cat((context_vector, input), dim=2)\n",
    "        output, hidden = self.gru(input, hidden)\n",
    "        output = self.softmax(self.out(output[0]))\n",
    "        return output, hidden"
   ]
  },
  {
   "cell_type": "code",
   "execution_count": 80,
   "id": "e2aa1c80-4038-4d22-b7b3-3144840dc6d6",
   "metadata": {},
   "outputs": [],
   "source": [
    "hidden_size = 256\n",
    "learning_rate = 0.1\n",
    "#encoder = EncoderRNN(french_lang.n_words+1, hidden_size)\n",
    "#decoder = AttentionDecoderRNN(english_lang.n_words+1, hidden_size) #+1 required for padding token (token 0)\n",
    "encoder_optimizer = optim.SGD(encoder.parameters(), lr=learning_rate)\n",
    "decoder_optimizer = optim.SGD(decoder.parameters(), lr=learning_rate)\n",
    "criterion = nn.NLLLoss(ignore_index=0) # should not calculate loss if the ith word is a padding token (0)"
   ]
  },
  {
   "cell_type": "code",
   "execution_count": 81,
   "id": "fa907e2a-6a56-4777-82ef-f8d0073d108c",
   "metadata": {},
   "outputs": [
    {
     "name": "stderr",
     "output_type": "stream",
     "text": [
      "100%|██████████| 332/332 [00:15<00:00, 22.00it/s]\n"
     ]
    },
    {
     "name": "stdout",
     "output_type": "stream",
     "text": [
      "Loss: 1.84750497341156\n"
     ]
    },
    {
     "name": "stderr",
     "output_type": "stream",
     "text": [
      "100%|██████████| 332/332 [00:14<00:00, 22.25it/s]\n"
     ]
    },
    {
     "name": "stdout",
     "output_type": "stream",
     "text": [
      "Loss: 1.4892609119415283\n"
     ]
    },
    {
     "name": "stderr",
     "output_type": "stream",
     "text": [
      "100%|██████████| 332/332 [00:14<00:00, 22.17it/s]\n"
     ]
    },
    {
     "name": "stdout",
     "output_type": "stream",
     "text": [
      "Loss: 1.3214900493621826\n"
     ]
    },
    {
     "name": "stderr",
     "output_type": "stream",
     "text": [
      "100%|██████████| 332/332 [00:15<00:00, 22.09it/s]\n"
     ]
    },
    {
     "name": "stdout",
     "output_type": "stream",
     "text": [
      "Loss: 1.1736665964126587\n"
     ]
    },
    {
     "name": "stderr",
     "output_type": "stream",
     "text": [
      "100%|██████████| 332/332 [00:15<00:00, 22.11it/s]\n"
     ]
    },
    {
     "name": "stdout",
     "output_type": "stream",
     "text": [
      "Loss: 1.0479902029037476\n"
     ]
    },
    {
     "name": "stderr",
     "output_type": "stream",
     "text": [
      "100%|██████████| 332/332 [00:15<00:00, 22.11it/s]\n"
     ]
    },
    {
     "name": "stdout",
     "output_type": "stream",
     "text": [
      "Loss: 0.9010565876960754\n"
     ]
    },
    {
     "name": "stderr",
     "output_type": "stream",
     "text": [
      "100%|██████████| 332/332 [00:14<00:00, 22.20it/s]\n"
     ]
    },
    {
     "name": "stdout",
     "output_type": "stream",
     "text": [
      "Loss: 0.7867129445075989\n"
     ]
    },
    {
     "name": "stderr",
     "output_type": "stream",
     "text": [
      "100%|██████████| 332/332 [00:14<00:00, 22.19it/s]\n"
     ]
    },
    {
     "name": "stdout",
     "output_type": "stream",
     "text": [
      "Loss: 0.6807211637496948\n"
     ]
    },
    {
     "name": "stderr",
     "output_type": "stream",
     "text": [
      "100%|██████████| 332/332 [00:14<00:00, 22.17it/s]\n"
     ]
    },
    {
     "name": "stdout",
     "output_type": "stream",
     "text": [
      "Loss: 0.6312524080276489\n"
     ]
    },
    {
     "name": "stderr",
     "output_type": "stream",
     "text": [
      "100%|██████████| 332/332 [00:15<00:00, 21.98it/s]\n"
     ]
    },
    {
     "name": "stdout",
     "output_type": "stream",
     "text": [
      "Loss: 0.5505753755569458\n"
     ]
    },
    {
     "name": "stderr",
     "output_type": "stream",
     "text": [
      "100%|██████████| 332/332 [00:15<00:00, 21.98it/s]\n"
     ]
    },
    {
     "name": "stdout",
     "output_type": "stream",
     "text": [
      "Loss: 0.46866580843925476\n"
     ]
    },
    {
     "name": "stderr",
     "output_type": "stream",
     "text": [
      "100%|██████████| 332/332 [00:15<00:00, 21.85it/s]\n"
     ]
    },
    {
     "name": "stdout",
     "output_type": "stream",
     "text": [
      "Loss: 0.4180297255516052\n"
     ]
    },
    {
     "name": "stderr",
     "output_type": "stream",
     "text": [
      "100%|██████████| 332/332 [00:14<00:00, 22.15it/s]\n"
     ]
    },
    {
     "name": "stdout",
     "output_type": "stream",
     "text": [
      "Loss: 0.41558676958084106\n"
     ]
    },
    {
     "name": "stderr",
     "output_type": "stream",
     "text": [
      "100%|██████████| 332/332 [00:15<00:00, 22.01it/s]\n"
     ]
    },
    {
     "name": "stdout",
     "output_type": "stream",
     "text": [
      "Loss: 0.38648098707199097\n"
     ]
    },
    {
     "name": "stderr",
     "output_type": "stream",
     "text": [
      "100%|██████████| 332/332 [00:15<00:00, 22.10it/s]"
     ]
    },
    {
     "name": "stdout",
     "output_type": "stream",
     "text": [
      "Loss: 0.3162214756011963\n"
     ]
    },
    {
     "name": "stderr",
     "output_type": "stream",
     "text": [
      "\n"
     ]
    }
   ],
   "source": [
    "losses = train(data_loader, num_epochs=15)"
   ]
  },
  {
   "cell_type": "code",
   "execution_count": 109,
   "id": "79937257-6981-44a8-b511-f201c4de0c65",
   "metadata": {},
   "outputs": [
    {
     "name": "stdout",
     "output_type": "stream",
     "text": [
      "tu es plus grande que moi . EOS\n",
      "you are taller than me . EOS\n",
      "SOS you are taller than i than am am . EOS\n",
      "\n",
      "il est toujours alite . EOS\n",
      "he is still on his back . EOS\n",
      "SOS he is always on on his business . EOS\n",
      "\n",
      "je suis en route pour retourner en ville . EOS\n",
      "i m headed back into town . EOS\n",
      "SOS i m on on town of in town . EOS\n",
      "\n",
      "nous allons jouer au tennis . EOS\n",
      "we re going to play tennis . EOS\n",
      "SOS we re going to play tennis tennis . EOS\n",
      "\n",
      "tu es deprimee n est ce pas ? EOS\n",
      "you re depressed aren t you ? EOS\n",
      "SOS you re depressed aren t you ? EOS\n",
      "\n",
      "je ne suis pas bon pour faire semblant . EOS\n",
      "i m not good at pretending . EOS\n",
      "SOS i m not good at do good . . EOS\n",
      "\n",
      "je suis desole de vous avoir deranges ! EOS\n",
      "i m sorry to have bothered you . EOS\n",
      "SOS i m sorry to have bothered you . . EOS\n",
      "\n",
      "je suis vraiment decu . EOS\n",
      "i m really disappointed . EOS\n",
      "SOS i am really disappointed . EOS\n",
      "\n",
      "je ne suis pas ton serviteur . EOS\n",
      "i m not your servant . EOS\n",
      "SOS i m not your of not your . EOS\n",
      "\n",
      "vous n etes pas normales . EOS\n",
      "you re not normal . EOS\n",
      "SOS you re not normal you . EOS\n",
      "\n"
     ]
    }
   ],
   "source": [
    "eval_on_sentences(dataset, french_lang, english_lang)"
   ]
  },
  {
   "cell_type": "code",
   "execution_count": 124,
   "id": "ad0d9cd8-8d91-47f4-b541-f6fdf099f87e",
   "metadata": {},
   "outputs": [
    {
     "data": {
      "image/png": "[encoded data removed]",
      "text/plain": [
       "<Figure size 720x720 with 1 Axes>"
      ]
     },
     "metadata": {
      "needs_background": "light"
     },
     "output_type": "display_data"
    }
   ],
   "source": [
    "def generate_attention_matrix(x, y, lang1, lang2):\n",
    "    encoder.eval()\n",
    "    decoder.eval()\n",
    "    x = x.view(-1, 1)\n",
    "    input = encoder.embedding(x)\n",
    "    x_len = torch.tensor([x.shape[0]])\n",
    "    input = pack_padded_sequence(input, x_len)\n",
    "    encoder_outputs, decoder_hidden = encoder(x, x_len) # last encoder hidden state becomes decoder hidden state\n",
    "    y_pred = [english_lang.word2index['SOS']]\n",
    "    decoder_input = torch.full((1, decoder_hidden.shape[1]), y_pred[-1])\n",
    "    attention_weights = []\n",
    "    while y_pred[-1]!=EOSToken: # 2 is the EOSToken\n",
    "        decoder_output, decoder_hidden = decoder(decoder_input, decoder_hidden, encoder_outputs)\n",
    "        attention_weights.append(list(decoder.attn_weights.squeeze().detach().numpy()))\n",
    "        topv, topi = decoder_output.topk(1, dim=1)\n",
    "        decoder_input = topi.transpose(0, 1)\n",
    "        y_pred.append(topi.item())\n",
    "    \n",
    "    fig, ax = plt.subplots(figsize=(10, 10))\n",
    "    ax.imshow(attention_weights)\n",
    "    x = [lang1.index2word[x[i, 0].item()] for i in range(len(x))]\n",
    "    y_pred = [lang2.index2word[y_pred[i]] for i in range(len(y_pred))]\n",
    "    ax.set_xticks(range(len(x)), labels=x)\n",
    "    ax.set_yticks(range(len(y_pred)), labels=y_pred)\n",
    "    \n",
    "idx = random.randrange(len(dataset))\n",
    "x, y = dataset[idx]\n",
    "generate_attention_matrix(x, y, french_lang, english_lang)"
   ]
  },
  {
   "cell_type": "markdown",
   "id": "dfd982d9-2bc1-4419-8e56-bb3f9e07aa47",
   "metadata": {},
   "source": [
    "# 3. Transformers\n",
    "Resources that helped me: \\\n",
    "http://nlp.seas.harvard.edu/2018/04/01/attention.html really really helpful \\\n",
    "https://arxiv.org/pdf/1706.03762.pdf orginial paper \\\n",
    "https://lilianweng.github.io/posts/2020-04-07-the-transformer-family/#transformer easily digestible explanation of core concepts"
   ]
  },
  {
   "cell_type": "markdown",
   "id": "e223076a-fa52-4cc2-85ef-167c50925a0b",
   "metadata": {},
   "source": [
    "## Part 1: Layers "
   ]
  },
  {
   "cell_type": "code",
   "execution_count": 61,
   "id": "772af20c-09c1-47ef-91a3-6825f75b5426",
   "metadata": {},
   "outputs": [],
   "source": [
    "class MultiHeadAttentionSublayer(nn.Module):\n",
    "    def __init__(self, d_model, heads=8):\n",
    "        super(MultiHeadAttentionSublayer, self).__init__()\n",
    "        assert(d_model % heads == 0)\n",
    "        # assume d_k = d_v\n",
    "        d_k = d_model // heads\n",
    "        self.heads = nn.ModuleList([SingleHeadAttention(d_model, d_k) for i in range(heads)])\n",
    "        self.w_o = nn.Linear(d_model, d_model)\n",
    "    def forward(self, q, k, v, mask):\n",
    "        x = torch.cat([self.heads[i](q, k, v, mask) for i in range(len(self.heads))], dim=-1)\n",
    "        x = self.w_o(x)\n",
    "        return x\n",
    "\n",
    "class SingleHeadAttention(nn.Module):\n",
    "    def __init__(self, d_model, d_k):\n",
    "        super(SingleHeadAttention, self).__init__()\n",
    "        self.wq = nn.Linear(d_model, d_k)\n",
    "        self.wk = nn.Linear(d_model, d_k)\n",
    "        self.wv = nn.Linear(d_model, d_k)\n",
    "            \n",
    "    def forward(self, q, k, v, mask=None): \n",
    "        # mask tells you which values each query can attend to. It is binary: 1 for can use and 0 for not allowed.\n",
    "        # masking out padding and for the decoder self attention layer, subsequent words \n",
    "        # apply weights to get the q, k, v of this head\n",
    "        q = self.wq(q)\n",
    "        k = self.wk(k)\n",
    "        v = self.wv(v) \n",
    "        d_k = q.size(-1)\n",
    "        scores = torch.matmul(q, k.transpose(-2, -1)) / math.sqrt(d_k) \n",
    "        # for scores, each row contains the weights for the ith query, column is the key\n",
    "        # (*, L, L)\n",
    "        # a_i,j = weight for ith query and jth key\n",
    "        if mask is not None:\n",
    "            scores = scores.masked_fill(mask == 0, -1e9)\n",
    "            \n",
    "        weights = F.softmax(scores, dim = -1) # scale across all keys \n",
    "        return torch.matmul(weights, v) # combining the rows of v using the rows in weights\n",
    "    \n",
    "class FeedForwardSublayer(nn.Module):\n",
    "    def __init__(self, d_model, d_ff=2048):\n",
    "        super(FeedForwardSublayer, self).__init__()\n",
    "        self.w_1 = nn.Linear(d_model, d_ff)\n",
    "        self.w_2 = nn.Linear(d_ff, d_model)\n",
    "    def forward(self, x):\n",
    "        return self.w_2(F.relu(self.w_1(x)))\n",
    "    \n",
    "class SublayerConnection(nn.Module):\n",
    "    def __init__(self, d_model, dropout=0.1):\n",
    "        super(SublayerConnection, self).__init__()\n",
    "        self.norm = LayerNorm(d_model)\n",
    "        self.dropout = nn.Dropout(dropout)\n",
    "    def forward(self, x, sublayer_out):\n",
    "        return self.norm(x + self.dropout(sublayer_out))  \n",
    "\n",
    "class LayerNorm(nn.Module): # https://arxiv.org/pdf/1607.06450.pdf\n",
    "    def __init__(self, d_model):\n",
    "        super(LayerNorm, self).__init__()\n",
    "        self.g = nn.Parameter(torch.ones(d_model))\n",
    "        self.b = nn.Parameter(torch.zeros(d_model))\n",
    "    def forward(self, x):\n",
    "        # compute mean and std for layer\n",
    "        mean = torch.mean(x, dim=-1, keepdim=True).to(x.device)\n",
    "        std = torch.std(x, dim=-1, keepdim=True).to(x.device)\n",
    "        # normalize\n",
    "        return ((self.g * (x - mean)) / (std + 1e-8)) + self.b"
   ]
  },
  {
   "cell_type": "markdown",
   "id": "de3dfaae-e9af-493b-9233-cd7e4ab0284c",
   "metadata": {},
   "source": [
    "## Part 2: Encoder"
   ]
  },
  {
   "cell_type": "code",
   "execution_count": 5,
   "id": "ffd4f99f-7879-4466-89d7-4cac9c6efaab",
   "metadata": {},
   "outputs": [],
   "source": [
    "class Encoder(nn.Module):\n",
    "    def __init__(self, d_model, N):\n",
    "        super(Encoder, self).__init__()\n",
    "        self.layers = nn.ModuleList([EncoderLayer(d_model) for i in range(N)])\n",
    "    def forward(self, x, mask):\n",
    "        for layer in self.layers:\n",
    "            x = layer(x, mask)\n",
    "        return x\n",
    "\n",
    "class EncoderLayer(nn.Module):\n",
    "    def __init__(self, d_model):\n",
    "        super(EncoderLayer, self).__init__()\n",
    "        self.attn = MultiHeadAttentionSublayer(d_model)\n",
    "        self.feed = FeedForwardSublayer(d_model)\n",
    "        self.conn1 = SublayerConnection(d_model)\n",
    "        self.conn2 = SublayerConnection(d_model)\n",
    "    def forward(self, x, mask):\n",
    "        sublayer_out = self.attn(x, x, x, mask)\n",
    "        x = self.conn1(x, sublayer_out)\n",
    "        sublayer_out = self.feed(x)\n",
    "        x = self.conn2(x, sublayer_out)\n",
    "        return x\n",
    "        "
   ]
  },
  {
   "cell_type": "markdown",
   "id": "28a6e043-83c3-4bbf-bd7e-8de21264e231",
   "metadata": {},
   "source": [
    "## Part 3: Decoder"
   ]
  },
  {
   "cell_type": "code",
   "execution_count": 6,
   "id": "d0e70dec-e1d1-4d48-986f-a9112f04f787",
   "metadata": {},
   "outputs": [],
   "source": [
    "class Decoder(nn.Module):\n",
    "    def __init__(self, d_model, N):\n",
    "        super(Decoder, self).__init__()\n",
    "        self.layers = nn.ModuleList([DecoderLayer(d_model) for i in range(N)])\n",
    "    def forward(self, x, encoder_final, src_mask, tgt_mask):\n",
    "        for layer in self.layers:\n",
    "            x = layer(x, encoder_final, src_mask, tgt_mask)\n",
    "        return x\n",
    "    \n",
    "class DecoderLayer(nn.Module):\n",
    "    def __init__(self, d_model):\n",
    "        super(DecoderLayer, self).__init__()\n",
    "        self.self_attn = MultiHeadAttentionSublayer(d_model)\n",
    "        self.encoder_attn = MultiHeadAttentionSublayer(d_model)\n",
    "        self.feed = FeedForwardSublayer(d_model)\n",
    "        self.conn1 = SublayerConnection(d_model)\n",
    "        self.conn2 = SublayerConnection(d_model)\n",
    "    def forward(self, x, encoder_final, src_mask, tgt_mask):\n",
    "        sublayer_out = self.self_attn(x, x, x, tgt_mask)\n",
    "        sublayer_out = self.encoder_attn(x, encoder_final, encoder_final, src_mask)\n",
    "        x = self.conn1(x, sublayer_out)\n",
    "        sublayer_out = self.feed(x)\n",
    "        x = self.conn2(x, sublayer_out)\n",
    "        return x"
   ]
  },
  {
   "cell_type": "markdown",
   "id": "8f8de98b-a230-45a9-b91a-a3702fae57e5",
   "metadata": {},
   "source": [
    "## Part 4: Embeddings"
   ]
  },
  {
   "cell_type": "code",
   "execution_count": 66,
   "id": "7d621ee0-7ea8-43cf-8cf7-fed000919636",
   "metadata": {
    "tags": []
   },
   "outputs": [],
   "source": [
    "class Embeddings(nn.Module):\n",
    "    def __init__(self, d_model, vocab):\n",
    "        super(Embeddings, self).__init__()\n",
    "        self.lut = nn.Embedding(vocab, d_model)\n",
    "        self.d_model = d_model\n",
    "\n",
    "    def forward(self, x):\n",
    "        return self.lut(x) * math.sqrt(self.d_model)\n",
    "    \n",
    "class PositionalEncoding(nn.Module):\n",
    "    def __init__(self, d_model, maxlen=500):\n",
    "        super(PositionalEncoding, self).__init__()\n",
    "        self.encoding = torch.zeros(maxlen, d_model)\n",
    "        time_steps = torch.arange(0, maxlen)\n",
    "        for i in range(d_model):\n",
    "            if (i % 2 == 0):\n",
    "                self.encoding[:, i] = torch.sin(time_steps / torch.float_power(torch.tensor(1000), i/d_model).item())\n",
    "            else:\n",
    "                self.encoding[:, i] = torch.cos(time_steps / torch.float_power(torch.tensor(1000), (i-1)/d_model).item())\n",
    "        self.encoding = self.encoding.unsqueeze(0)\n",
    "    def forward(self, x):\n",
    "        return x + torch.autograd.Variable(self.encoding[:, :x.size(1), :], requires_grad=False).to(x.device)\n",
    "\n",
    "class Generator(nn.Module):\n",
    "    def __init__(self, d_model, vocab):\n",
    "        super(Generator, self).__init__()\n",
    "        self.out = nn.Linear(d_model, vocab)\n",
    "    def forward(self, x):\n",
    "        return F.log_softmax(self.out(x), dim=-1) # KL-Divergence takes the log of the probabilities"
   ]
  },
  {
   "cell_type": "markdown",
   "id": "4a648ee6-3dbf-4e7f-bb80-7992a502c431",
   "metadata": {},
   "source": [
    "## Part 5: Full Model"
   ]
  },
  {
   "cell_type": "code",
   "execution_count": 68,
   "id": "338906f4-e186-443d-946e-2081fbd83dbe",
   "metadata": {},
   "outputs": [],
   "source": [
    "class Transformer(nn.Module):\n",
    "    def __init__(self, src_vocab, tgt_vocab, d_model=512, N=6, dropout=0.1):\n",
    "        super(Transformer, self).__init__()\n",
    "        self.d_model = d_model\n",
    "        self.embed_src = Embeddings(d_model, src_vocab)\n",
    "        self.positional = PositionalEncoding(d_model)\n",
    "        self.dropout = nn.Dropout(p=dropout)\n",
    "        self.encoder = Encoder(d_model, N)\n",
    "        self.embed_tgt = Embeddings(d_model, tgt_vocab)\n",
    "        self.decoder = Decoder(d_model, N)\n",
    "        self.generator = Generator(d_model, tgt_vocab)\n",
    "        for p in self.parameters():\n",
    "            if p.dim() > 1:\n",
    "                nn.init.xavier_uniform_(p)\n",
    "    def forward(self, src, tgt, src_mask, tgt_mask): # src_mask and tgt_mask remove \n",
    "        x = self.embed_src(src)\n",
    "        x = self.positional(x)\n",
    "        x = self.dropout(x)\n",
    "        encoder_final = self.encoder(x, src_mask)\n",
    "        x = self.embed_tgt(tgt)\n",
    "        x = self.positional(x)\n",
    "        x = self.dropout(x)\n",
    "        decoder_final = self.decoder(x, encoder_final, src_mask, tgt_mask)\n",
    "        return decoder_final"
   ]
  },
  {
   "cell_type": "markdown",
   "id": "8ae1f989-fc86-4b9f-856e-755701f73a11",
   "metadata": {},
   "source": [
    "## Part 6: Testing Random Things"
   ]
  },
  {
   "cell_type": "code",
   "execution_count": 14,
   "id": "0ebcc26e-555a-44fd-adca-3cd328010381",
   "metadata": {},
   "outputs": [],
   "source": [
    "def subsequent_mask(L):\n",
    "    mask = np.tril(np.ones((1, L, L)), k=0) # lower traingle is all filled -> ith query can use values v_j where j is in 0..i \n",
    "    return torch.from_numpy(mask)"
   ]
  },
  {
   "cell_type": "code",
   "execution_count": 15,
   "id": "3d9eeafc-4682-464b-b8b8-828b873d9a3a",
   "metadata": {},
   "outputs": [
    {
     "data": {
      "text/plain": [
       "<matplotlib.image.AxesImage at 0x7fa1106b4c40>"
      ]
     },
     "execution_count": 15,
     "metadata": {},
     "output_type": "execute_result"
    },
    {
     "data": {
      "image/png": "[encoded data removed]",
      "text/plain": [
       "<Figure size 360x1080 with 1 Axes>"
      ]
     },
     "metadata": {
      "needs_background": "light"
     },
     "output_type": "display_data"
    }
   ],
   "source": [
    "x = PositionalEncoding(500)\n",
    "fig, ax = plt.subplots(figsize=(5, 15))\n",
    "ax.imshow(x.encoding.squeeze().numpy())"
   ]
  },
  {
   "cell_type": "markdown",
   "id": "ef0f61c5-5600-4cc3-94d2-819d447241ec",
   "metadata": {},
   "source": [
    "## Part 7: Copy Task\n",
    "portions here can be directly attributed to http://nlp.seas.harvard.edu/2018/04/01/attention.html"
   ]
  },
  {
   "cell_type": "code",
   "execution_count": 9,
   "id": "e62ad02a-4b52-4aa6-8c26-2c6b39e5a5f8",
   "metadata": {},
   "outputs": [],
   "source": [
    "# Note: This part is very important. \n",
    "# Need to train with this setup of the model is very unstable.\n",
    "class NoamOpt:\n",
    "    \"Optim wrapper that implements rate.\"\n",
    "    def __init__(self, d_model, factor, warmup, optimizer):\n",
    "        self.optimizer = optimizer\n",
    "        self._step = 0\n",
    "        self.warmup = warmup\n",
    "        self.factor = factor\n",
    "        self.d_model = d_model\n",
    "        self._rate = 0\n",
    "        \n",
    "    def step(self):\n",
    "        \"Update parameters and rate\"\n",
    "        self._step += 1\n",
    "        rate = self.rate()\n",
    "        for p in self.optimizer.param_groups:\n",
    "            p['lr'] = rate\n",
    "        self._rate = rate\n",
    "        self.optimizer.step()\n",
    "        \n",
    "    def rate(self, step = None):\n",
    "        \"Implement `lrate` above\"\n",
    "        if step is None:\n",
    "            step = self._step\n",
    "        return self.factor * \\\n",
    "            (self.d_model ** (-0.5) *\n",
    "            min(step ** (-0.5), step * self.warmup**(-1.5)))\n",
    "        \n",
    "def get_std_opt(model):\n",
    "    return NoamOpt(model.d_model, 2, 4000,\n",
    "    torch.optim.Adam(model.parameters(),\n",
    "        lr=0, betas=(0.9, 0.98), eps=1e-9))"
   ]
  },
  {
   "cell_type": "code",
   "execution_count": 10,
   "id": "20637f5b-2b79-43eb-a36d-ed8d05971111",
   "metadata": {},
   "outputs": [],
   "source": [
    "class LabelSmoothing(nn.Module):\n",
    "    \"Implement label smoothing.\"\n",
    "    def __init__(self, size, padding_idx, smoothing=0.0):\n",
    "        super(LabelSmoothing, self).__init__()\n",
    "        self.criterion = nn.KLDivLoss(reduction='sum')\n",
    "        self.padding_idx = padding_idx\n",
    "        self.confidence = 1.0 - smoothing\n",
    "        self.smoothing = smoothing\n",
    "        self.size = size\n",
    "        self.true_dist = None\n",
    "        \n",
    "    def forward(self, x, target):\n",
    "        assert x.size(1) == self.size\n",
    "        true_dist = x.data.clone()\n",
    "        true_dist.fill_(self.smoothing / (self.size - 2))\n",
    "        true_dist.scatter_(1, target.data.unsqueeze(1), self.confidence)\n",
    "        true_dist[:, self.padding_idx] = 0\n",
    "        mask = torch.nonzero(target.data == self.padding_idx)\n",
    "        if mask.dim() > 0:\n",
    "            true_dist.index_fill_(0, mask.squeeze(), 0.0)\n",
    "        self.true_dist = true_dist\n",
    "        return self.criterion(x, Variable(true_dist, requires_grad=False))"
   ]
  },
  {
   "cell_type": "code",
   "execution_count": 11,
   "id": "4da35b17-c842-430e-a16a-05dce485ea1d",
   "metadata": {},
   "outputs": [
    {
     "data": {
      "image/png": "[encoded data removed]",
      "text/plain": [
       "<Figure size 432x288 with 1 Axes>"
      ]
     },
     "metadata": {
      "needs_background": "light"
     },
     "output_type": "display_data"
    }
   ],
   "source": [
    "#Example of label smoothing.\n",
    "crit = LabelSmoothing(5, 0, 0.1) # 5 is the vocab size -- includes the padding token\n",
    "predict = torch.FloatTensor([[0, 0.2, 0.7, 0.1, 0],\n",
    "                             [0, 0.2, 0.7, 0.1, 0], \n",
    "                             [1, 0, 0, 0, 0]]) # sentence length x vocab size\n",
    "v = crit(Variable(predict.log()), \n",
    "         Variable(torch.LongTensor([2, 1, 0])))\n",
    "\n",
    "# Show the target distributions expected by the system.\n",
    "plt.imshow(crit.true_dist)\n",
    "None"
   ]
  },
  {
   "cell_type": "code",
   "execution_count": 12,
   "id": "9e742d4f-f462-4ac2-8fb4-5bbba9a81fef",
   "metadata": {},
   "outputs": [
    {
     "data": {
      "text/plain": [
       "[<matplotlib.lines.Line2D at 0x7fa001814d60>]"
      ]
     },
     "execution_count": 12,
     "metadata": {},
     "output_type": "execute_result"
    },
    {
     "data": {
      "image/png": "[encoded data removed]",
      "text/plain": [
       "<Figure size 432x288 with 1 Axes>"
      ]
     },
     "metadata": {
      "needs_background": "light"
     },
     "output_type": "display_data"
    }
   ],
   "source": [
    "# Label smoothing starts to penalize the model \n",
    "# if it gets very confident about a given choice\n",
    "def loss(x):\n",
    "    d = x + 3 * 1\n",
    "    predict = torch.FloatTensor([[0, x / d, 1 / d, 1 / d, 1 / d],\n",
    "                                 ])\n",
    "    return crit(Variable(predict.log()),\n",
    "                 Variable(torch.LongTensor([1]))).data.item()\n",
    "plt.plot(np.arange(1, 100), [loss(x) for x in range(1, 100)])"
   ]
  },
  {
   "cell_type": "code",
   "execution_count": 16,
   "id": "7b83ba85-e527-47a7-9fa4-0cb2e05dbafe",
   "metadata": {},
   "outputs": [],
   "source": [
    "def loss_backprop(generator, criterion, out, targets, normalize, bp=True):\n",
    "    \"\"\"\n",
    "    Memory optmization. Compute each timestep separately and sum grads.\n",
    "    \"\"\"\n",
    "    assert out.size(1) == targets.size(1)\n",
    "    total = 0.0\n",
    "    out_grad = []\n",
    "    for i in range(out.size(1)):\n",
    "        out_column = Variable(out[:, i].data, requires_grad=True)\n",
    "        gen = generator(out_column)\n",
    "        loss = criterion(gen, targets[:, i]) / normalize\n",
    "        total += loss.data.item()\n",
    "        loss.backward()\n",
    "        out_grad.append(out_column.grad.data.clone())\n",
    "    if bp:\n",
    "        out_grad = torch.stack(out_grad, dim=1)\n",
    "        out.backward(gradient=out_grad)\n",
    "    return total"
   ]
  },
  {
   "cell_type": "code",
   "execution_count": 41,
   "id": "fd178ff4-39f1-4a23-b739-6360d1b7fabc",
   "metadata": {},
   "outputs": [],
   "source": [
    "# data generation for the copy task \n",
    "\n",
    "def make_std_mask(src, tgt, pad):\n",
    "    \"\"\"\n",
    "    Create a mask to hide padding and future words.\n",
    "    \n",
    "    src and tgt are B x L tensors where B is the batch size and L is the sentence length \n",
    "    \"\"\"\n",
    "    \n",
    "    src_mask = (src != pad).unsqueeze(-2)\n",
    "    tgt_mask = (tgt != pad).unsqueeze(-2)\n",
    "    tgt_mask = tgt_mask & Variable(subsequent_mask(tgt.size(-1)).type_as(tgt_mask.data))\n",
    "    return src_mask, tgt_mask\n",
    "\n",
    "class Batch:\n",
    "    \"Batch object.\"\n",
    "    def __init__(self, src, trg, src_mask, trg_mask, ntokens):\n",
    "        self.src = src\n",
    "        self.trg = trg\n",
    "        self.src_mask = src_mask\n",
    "        self.trg_mask = trg_mask\n",
    "        self.ntokens = ntokens\n",
    "        \n",
    "def data_gen(V, batch, nbatches): # batch = batch size\n",
    "    \"Generate random data for a src-tgt copy task.\"\n",
    "    for i in range(nbatches):\n",
    "        data = torch.from_numpy(np.random.randint(1, V, size=(batch, 10))) # 0 is padding, so only use 1-V\n",
    "        src = Variable(data, requires_grad=False)\n",
    "        tgt = Variable(data, requires_grad=False)\n",
    "        src_mask, tgt_mask = make_std_mask(src, tgt, 0)\n",
    "        yield Batch(src, tgt, src_mask, tgt_mask, (tgt[1:] != 0).data.sum())"
   ]
  },
  {
   "cell_type": "code",
   "execution_count": 70,
   "id": "54b7aa19-3e59-4dad-902b-674d8766427c",
   "metadata": {},
   "outputs": [],
   "source": [
    "def train_epoch(train_iter, model, criterion, opt):\n",
    "    \"Standard Training and Logging Function\"\n",
    "    model.train()\n",
    "    device = 'cuda' if torch.cuda.is_available() else 'cpu'\n",
    "    model = model.to(device)\n",
    "    for i, batch in enumerate(train_iter):\n",
    "        src, trg, src_mask, trg_mask = \\\n",
    "            batch.src, batch.trg, batch.src_mask, batch.trg_mask\n",
    "        src = src.to(device)\n",
    "        trg = trg.to(device)\n",
    "        src_mask = src_mask.to(device)\n",
    "        trg_mask = trg_mask.to(device)\n",
    "        out = model.forward(src, trg[:, :-1], src_mask, trg_mask[:, :-1, :-1])\n",
    "        loss = loss_backprop(model.generator, criterion, \n",
    "                             out, trg[:, 1:], batch.ntokens) \n",
    "                        \n",
    "        model_opt.step()\n",
    "        model_opt.optimizer.zero_grad()\n",
    "        if i % 10 == 1:\n",
    "            print(i, loss, model_opt._rate)\n",
    "            \n",
    "def valid_epoch(valid_iter, model, criterion):\n",
    "    \"Standard validation function\"\n",
    "    model.eval()\n",
    "    device = 'cuda' if torch.cuda.is_available() else 'cpu'\n",
    "    model = model.to(device)\n",
    "    total = 0\n",
    "    total_tokens = 0\n",
    "    for batch in valid_iter:\n",
    "        src, trg, src_mask, trg_mask = \\\n",
    "            batch.src, batch.trg, batch.src_mask, batch.trg_mask\n",
    "        src = src.to(device)\n",
    "        trg = trg.to(device)\n",
    "        src_mask = src_mask.to(device)\n",
    "        trg_mask = trg_mask.to(device)\n",
    "        out = model.forward(src, trg[:, :-1], \n",
    "                            src_mask, trg_mask[:, :-1, :-1])\n",
    "        total += loss_backprop(model.generator, criterion, out, trg[:, 1:], \n",
    "                             batch.ntokens, bp=False) * batch.ntokens\n",
    "        total_tokens += batch.ntokens\n",
    "    return total / total_tokens"
   ]
  },
  {
   "cell_type": "code",
   "execution_count": 71,
   "id": "e3074644-f44b-4770-a388-9ffca8363964",
   "metadata": {},
   "outputs": [
    {
     "name": "stdout",
     "output_type": "stream",
     "text": [
      "1 3.0705456733703613 6.987712429686844e-07\n",
      "11 3.126532793045044 4.192627457812107e-06\n",
      "Validation Loss: 3.150235652923584\n",
      "1 2.9469976127147675 7.686483672655528e-06\n",
      "11 3.0570517778396606 1.118033988749895e-05\n",
      "Validation Loss: 3.090402841567993\n"
     ]
    }
   ],
   "source": [
    "# Train the simple copy task.\n",
    "V = 11\n",
    "criterion = LabelSmoothing(size=V, padding_idx=0, smoothing=0.0)\n",
    "example_model = Transformer(V, V, N=2)\n",
    "model_opt = get_std_opt(model)\n",
    "for epoch in range(2):\n",
    "    train_epoch(data_gen(V, 30, 20), example_model, criterion, model_opt)\n",
    "    print(\"Validation Loss:\", valid_epoch(data_gen(V, 30, 5), example_model, criterion).item())"
   ]
  },
  {
   "cell_type": "code",
   "execution_count": 56,
   "id": "9dc78582-3a7f-4d96-9de2-839bea9a0848",
   "metadata": {},
   "outputs": [
    {
     "data": {
      "text/plain": [
       "<generator object Module.parameters at 0x7fa000146820>"
      ]
     },
     "execution_count": 56,
     "metadata": {},
     "output_type": "execute_result"
    }
   ],
   "source": [
    "example_model.positional.parameters()"
   ]
  },
  {
   "cell_type": "code",
   "execution_count": 128,
   "id": "45ca92e2-24be-4db0-9c76-16ed9f1c8f31",
   "metadata": {},
   "outputs": [
    {
     "name": "stdout",
     "output_type": "stream",
     "text": [
      "tensor([7, 9, 7, 9, 7, 9, 1, 5, 8, 5])\n",
      "torch.Size([30, 9, 512]) torch.Size([30, 10])\n",
      "tensor([-8.9079, -2.7261, -3.7012, -2.5811, -3.9274, -1.7221, -3.2705, -1.7068,\n",
      "        -2.6371, -1.1161, -4.0702], grad_fn=<SliceBackward0>)\n"
     ]
    }
   ],
   "source": [
    "def evaluate(batch, model, criterion):\n",
    "    print(batch.trg[0, :])\n",
    "    model.eval()\n",
    "    src, trg, src_mask, trg_mask = \\\n",
    "        batch.src, batch.trg, batch.src_mask, batch.trg_mask\n",
    "    out = model.forward(src, trg[:, :-1], \n",
    "                        src_mask, trg_mask[:, :-1, :-1])\n",
    "    print(out.shape, batch.trg.shape)\n",
    "    outs = []\n",
    "    for i in range(out.size(1)): # in this case, 9, because we have length 10 sentences and 1 word is the \"SOS token\"\n",
    "        out_column = Variable(out[:, i].data, requires_grad=True)\n",
    "        gen = model.generator(out_column) # log probabilites for each word being the ith output word\n",
    "        outs.append(gen)\n",
    "    print(torch.vstack(outs)[0, :])\n",
    "\n",
    "x = [batch for batch in data_gen(11, 30, 1)]\n",
    "evaluate(x[0], model, criterion)"
   ]
  },
  {
   "cell_type": "markdown",
   "id": "18c4094f-81f8-49d2-8640-421f11b20ecd",
   "metadata": {},
   "source": [
    "## Part 8: A Real Task"
   ]
  },
  {
   "cell_type": "code",
   "execution_count": 22,
   "id": "dd7af7d0-bc05-4402-9cce-0d22dfa3cf69",
   "metadata": {},
   "outputs": [
    {
     "name": "stdout",
     "output_type": "stream",
     "text": [
      "10599 total examples\n",
      "9539 training examples and 1060 validation examples\n"
     ]
    }
   ],
   "source": [
    "# The SOS Token is now the first token of all y_true \n",
    "# and the EOS Token is not a part of x \n",
    "# should still use the other version of the code above for the RNN models\n",
    "\n",
    "def convert_to_tensor(lang, sentence, input_lang):\n",
    "    sentence = [lang.word2index[word] for word in sentence.split(' ')]\n",
    "    if input_lang is False:\n",
    "        sentence.insert(0, lang.word2index[\"SOS\"])\n",
    "        sentence.append(lang.word2index[\"EOS\"])\n",
    "    return torch.tensor(sentence, dtype=torch.long)\n",
    "\n",
    "\n",
    "class SentenceDataset(Dataset):\n",
    "    def __init__(self, lang1, lang2, pairs):\n",
    "        self.lang1 = lang1\n",
    "        self.lang2 = lang2\n",
    "        self.pairs = []\n",
    "        for i in range(len(pairs)):\n",
    "            s1, s2 = pairs[i]\n",
    "            self.pairs.append([convert_to_tensor(lang1, s1, True), convert_to_tensor(lang2, s2, False)])\n",
    "    def __getitem__(self, idx):\n",
    "        return self.pairs[idx][0], self.pairs[idx][1]\n",
    "    def __len__(self):\n",
    "        return len(self.pairs)\n",
    "\n",
    "def pad_collate(batch):\n",
    "    x, y = zip(*batch)\n",
    "    x_lens = torch.tensor([len(i) for i in x])\n",
    "    y_lens = torch.tensor([len(i) for i in y])\n",
    "    x_pad = pad_sequence(x, padding_value=0)\n",
    "    y_pad = pad_sequence(y, padding_value=0)\n",
    "    \n",
    "    # sort \n",
    "    x_lens, idx = x_lens.sort(0, descending=True)\n",
    "    y_lens = y_lens[idx]\n",
    "    x_pad = x_pad[:, idx]\n",
    "    y_pad = y_pad[:, idx]\n",
    "    \n",
    "    return x_pad, y_pad, x_lens, y_lens\n",
    "\n",
    "dataset = SentenceDataset(french_lang, english_lang, pairs)\n",
    "print(f\"{len(dataset)} total examples\")\n",
    "train_set_size = int(len(dataset) * 0.9)\n",
    "train_set = torch.utils.data.Subset(dataset, range(0, train_set_size))\n",
    "valid_set = torch.utils.data.Subset(dataset, range(train_set_size, len(dataset)))\n",
    "train_set, valid_set = torch.utils.data.random_split(dataset, [train_set_size, len(dataset) - train_set_size])\n",
    "print(f\"{len(train_set)} training examples and {len(valid_set)} validation examples\")\n",
    "train_data_loader = DataLoader(train_set, batch_size=32, shuffle=False, collate_fn=pad_collate)\n",
    "val_data_loader = DataLoader(valid_set, batch_size=32, shuffle=False, collate_fn=pad_collate)"
   ]
  },
  {
   "cell_type": "code",
   "execution_count": 74,
   "id": "4eebd834-06ae-4e68-9de5-e49cbdb6da33",
   "metadata": {},
   "outputs": [],
   "source": [
    "def data_gen(data_loader):\n",
    "    for src, tgt, src_lens, tgt_lens in data_loader:\n",
    "        src = src.transpose(0, 1)\n",
    "        tgt = tgt.transpose(0, 1)\n",
    "        src_mask, tgt_mask = make_std_mask(src, tgt, 0)\n",
    "        yield Batch(src, tgt, src_mask, tgt_mask, (tgt[1:] != 0).data.sum())       "
   ]
  },
  {
   "cell_type": "code",
   "execution_count": 72,
   "id": "50694bfb-4a3f-401f-a1f3-52547622d162",
   "metadata": {},
   "outputs": [],
   "source": [
    "src_vocab = french_lang.n_words + 1\n",
    "tgt_vocab = english_lang.n_words + 1\n",
    "criterion = LabelSmoothing(size=tgt_vocab, padding_idx=0, smoothing=0.1)\n",
    "model = Transformer(src_vocab, tgt_vocab)\n",
    "model_opt = NoamOpt(model.d_model, 2, 4000, torch.optim.Adam(model.parameters(), lr=0.01, betas=(0.9, 0.98), eps=1e-9))"
   ]
  },
  {
   "cell_type": "code",
   "execution_count": 75,
   "id": "d65444e7-b762-4d90-a985-ff6327a1f27d",
   "metadata": {},
   "outputs": [
    {
     "name": "stdout",
     "output_type": "stream",
     "text": [
      "1 6.382612235844135 6.987712429686844e-07\n",
      "11 5.880567751824856 4.192627457812107e-06\n",
      "21 5.2668477185070515 7.686483672655528e-06\n",
      "31 4.719393603503704 1.118033988749895e-05\n",
      "41 4.482644026167691 1.4674196102342371e-05\n",
      "51 4.266209810972214 1.8168052317185794e-05\n",
      "61 4.340397300198674 2.1661908532029216e-05\n",
      "71 3.9542711172252893 2.515576474687264e-05\n",
      "81 3.9745383160188794 2.8649620961716057e-05\n",
      "91 3.6233432944864035 3.214347717655948e-05\n",
      "101 3.552631534577813 3.56373333914029e-05\n",
      "111 3.2143116299412213 3.913118960624633e-05\n",
      "121 2.8324348997412017 4.262504582108975e-05\n",
      "131 2.7684065499561257 4.611890203593317e-05\n",
      "141 2.637264327131561 4.961275825077659e-05\n",
      "151 2.4914106815704145 5.310661446562001e-05\n",
      "161 2.4582338652107865 5.660047068046343e-05\n",
      "171 2.1866989573900355 6.0094326895306855e-05\n",
      "181 2.410786448941508 6.358818311015028e-05\n",
      "191 2.2005872426962014 6.70820393249937e-05\n",
      "201 2.3148670830996707 7.057589553983712e-05\n",
      "211 2.1674356116272975 7.406975175468054e-05\n",
      "221 2.1432551969919587 7.756360796952397e-05\n",
      "231 2.1648279372311663 8.10574641843674e-05\n",
      "241 2.319218473538058 8.455132039921081e-05\n",
      "251 2.0452185391040985 8.804517661405423e-05\n",
      "261 2.29699048337352 9.153903282889765e-05\n",
      "271 2.079117791116005 9.503288904374107e-05\n",
      "281 2.0260470926295966 9.85267452585845e-05\n",
      "291 1.9547008458757773 0.00010202060147342792\n",
      "Validation Loss: 2.014765501022339\n",
      "1 2.079823676860542 0.000105165072066787\n",
      "11 2.0188995261269156 0.00010865892828163043\n",
      "21 2.188416328965104 0.00011215278449647384\n",
      "31 1.8985188420920167 0.00011564664071131725\n",
      "41 2.018683231799514 0.00011914049692616069\n",
      "51 1.7304626486584311 0.00012263435314100412\n",
      "61 2.0517123041063314 0.00012612820935584753\n",
      "71 1.8008604127389845 0.00012962206557069094\n",
      "81 1.9574097635631915 0.00013311592178553438\n",
      "91 1.7983613929682178 0.0001366097780003778\n",
      "101 1.9892633198469412 0.0001401036342152212\n",
      "111 1.9074286824616138 0.00014359749043006464\n",
      "121 1.7702937256472069 0.00014709134664490805\n",
      "131 1.883273073064629 0.00015058520285975147\n",
      "141 1.9221020750555908 0.0001540790590745949\n",
      "151 1.806419802334858 0.00015757291528943832\n",
      "161 1.7737537434732076 0.00016106677150428173\n",
      "171 1.6428437254508026 0.00016456062771912517\n",
      "181 2.0093988232838456 0.00016805448393396858\n",
      "191 1.7221163116191747 0.000171548340148812\n",
      "201 1.7098033808579203 0.0001750421963636554\n",
      "211 1.762136949080741 0.00017853605257849885\n",
      "221 1.70773503484088 0.00018202990879334229\n",
      "231 1.8346619139047107 0.00018552376500818572\n",
      "241 1.8650597871164791 0.0001890176212230291\n",
      "251 1.7100783102941932 0.00019251147743787255\n",
      "261 1.9459197764990677 0.000196005333652716\n",
      "271 1.7869965224745101 0.00019949918986755937\n",
      "281 1.7086329304147512 0.0002029930460824028\n",
      "291 1.6276057114009745 0.00020648690229724625\n",
      "Validation Loss: 1.7345207929611206\n",
      "1 1.8562927427046816 0.0002096313728906053\n",
      "11 1.673533459455939 0.00021312522910544871\n",
      "21 1.8000674803188303 0.00021661908532029215\n",
      "31 1.6290207006532 0.0002201129415351356\n",
      "41 1.6702921009746206 0.00022360679774997898\n",
      "51 1.4892281793436268 0.00022710065396482242\n",
      "61 1.8073982540372526 0.00023059451017966586\n",
      "71 1.6171541279909434 0.00023408836639450924\n",
      "81 1.6597574936313322 0.00023758222260935268\n",
      "91 1.6080284618074074 0.00024107607882419612\n",
      "101 1.6895020306983497 0.0002445699350390395\n",
      "111 1.6141711675591068 0.00024806379125388297\n",
      "121 1.4299848896625917 0.0002515576474687264\n",
      "131 1.6719010689084826 0.0002550515036835698\n",
      "141 1.7296174598304788 0.0002585453598984132\n",
      "151 1.632842900842661 0.0002620392161132566\n",
      "161 1.670230452931719 0.0002655330723281001\n",
      "171 1.4452365036995616 0.0002690269285429435\n",
      "181 1.7528054820140824 0.0002725207847577869\n",
      "191 1.5610616450285306 0.0002760146409726303\n",
      "201 1.4683533901988994 0.00027950849718747374\n",
      "211 1.6312872789712856 0.00028300235340231715\n",
      "221 1.4623892074123432 0.0002864962096171606\n",
      "231 1.6624943864444504 0.000289990065832004\n",
      "241 1.722340435924707 0.00029348392204684744\n",
      "251 1.5118340502376668 0.00029697777826169085\n",
      "261 1.7964045860644546 0.00030047163447653426\n",
      "271 1.5868211434426485 0.0003039654906913777\n",
      "281 1.606795352185145 0.00030745934690622114\n",
      "291 1.3707454382092692 0.00031095320312106455\n",
      "Validation Loss: 1.6657899618148804\n",
      "1 1.657774216379039 0.0003140976737144236\n",
      "11 1.5672111618187046 0.00031759152992926707\n",
      "21 1.623514591017738 0.0003210853861441105\n",
      "31 1.4351701307386975 0.0003245792423589539\n",
      "41 1.5711310497717932 0.0003280730985737973\n",
      "51 1.2451631373987766 0.0003315669547886407\n",
      "61 1.7042570341509418 0.0003350608110034842\n",
      "71 1.5148265907846508 0.0003385546672183276\n",
      "81 1.5329123476112727 0.000342048523433171\n",
      "91 1.473611576264375 0.0003455423796480144\n",
      "101 1.511509643496538 0.00034903623586285783\n",
      "111 1.4619610062072752 0.00035253009207770125\n",
      "121 1.3847537479014136 0.0003560239482925447\n",
      "131 1.560518789861817 0.00035951780450738807\n",
      "141 1.5230654231418157 0.0003630116607222316\n",
      "151 1.5618593920371495 0.00036650551693707495\n",
      "161 1.450247907283483 0.00036999937315191836\n",
      "171 1.332176560201333 0.0003734932293667618\n",
      "181 1.641657952361129 0.00037698708558160524\n",
      "191 1.4912609111197526 0.0003804809417964486\n",
      "201 1.3758904360147426 0.0003839747980112921\n",
      "211 1.3922239497842384 0.0003874686542261355\n",
      "221 1.3471971068283892 0.0003909625104409789\n",
      "231 1.616698257785174 0.00039445636665582235\n",
      "241 1.6523943888314534 0.00039795022287066577\n",
      "251 1.4470112795970635 0.0004014440790855091\n",
      "261 1.686527524576377 0.00040493793530035265\n",
      "271 1.4964554235557443 0.000408431791515196\n",
      "281 1.4607258535979781 0.0004119256477300394\n",
      "291 1.3272183795634191 0.0004154195039448829\n",
      "Validation Loss: 1.5329406261444092\n",
      "1 1.4862057708669454 0.000418563974538242\n",
      "11 1.458612911781529 0.00042205783075308534\n",
      "21 1.4857702820881968 0.00042555168696792876\n",
      "31 1.3754563421098283 0.0004290455431827722\n",
      "41 1.4556449727788277 0.00043253939939761563\n",
      "51 1.1290551074453106 0.00043603325561245905\n",
      "61 1.5468709279666655 0.0004395271118273025\n",
      "71 1.4276231477560941 0.00044302096804214587\n",
      "81 1.3832182796177221 0.0004465148242569893\n",
      "91 1.365529485672596 0.00045000868047183275\n",
      "101 1.4360868287549238 0.00045350253668667616\n",
      "111 1.2938340729451738 0.0004569963929015196\n",
      "121 1.220938525875681 0.00046049024911636304\n",
      "131 1.3966122794554394 0.0004639841053312064\n",
      "141 1.391398091283918 0.0004674779615460498\n",
      "151 1.4496225899201818 0.0004709718177608933\n",
      "161 1.412597114496748 0.0004744656739757367\n",
      "171 1.278227951937879 0.00047795953019058005\n",
      "181 1.5393599079434352 0.00048145338640542357\n",
      "191 1.3852168198500294 0.0004849472426202669\n",
      "201 1.3300782214500941 0.0004884410988351104\n",
      "211 1.32090033042914 0.0004919349550499538\n",
      "221 1.2414008181076497 0.0004954288112647972\n",
      "231 1.5037829793727724 0.0004989226674796406\n",
      "241 1.5753983402682934 0.000502416523694484\n",
      "251 1.2301463602780132 0.0005059103799093275\n",
      "261 1.5005358390917536 0.000509404236124171\n",
      "271 1.3565088469986222 0.0005128980923390144\n",
      "281 1.3880829301051563 0.0005163919485538577\n",
      "291 1.23691502949805 0.0005198858047687012\n",
      "Validation Loss: 1.4861525297164917\n",
      "1 1.5248833977457252 0.0005230302753620603\n",
      "11 1.3704659945215099 0.0005265241315769037\n",
      "21 1.4272273119713645 0.0005300179877917471\n",
      "31 1.301058316261333 0.0005335118440065905\n",
      "41 1.288504338441271 0.0005370057002214339\n",
      "51 0.9897978940534813 0.0005404995564362773\n",
      "61 1.5245961032778723 0.0005439934126511208\n",
      "71 1.3429360257432563 0.0005474872688659643\n",
      "81 1.2373961635385058 0.0005509811250808076\n",
      "91 1.2339609753835248 0.0005544749812956511\n",
      "101 1.2716200853828923 0.0005579688375104945\n",
      "111 1.3149541258317186 0.0005614626937253379\n",
      "121 1.2172766119329026 0.0005649565499401813\n",
      "131 1.3358605906960292 0.0005684504061550247\n",
      "141 1.450482361637114 0.0005719442623698681\n",
      "151 1.451437840005383 0.0005754381185847116\n",
      "161 1.359796058415668 0.000578931974799555\n",
      "171 1.2179403507543611 0.0005824258310143984\n",
      "181 1.527009499437554 0.0005859196872292419\n",
      "191 1.3286813379672822 0.0005894135434440853\n",
      "201 1.1695559909276199 0.0005929073996589286\n",
      "211 1.2250164012657478 0.0005964012558737721\n",
      "221 1.1068432874089922 0.0005998951120886155\n",
      "231 1.3936987740307814 0.000603388968303459\n",
      "241 1.4732206530170515 0.0006068828245183024\n",
      "251 1.165734043737757 0.0006103766807331458\n",
      "261 1.5177192514347553 0.0006138705369479893\n",
      "271 1.3611702696653083 0.0006173643931628326\n",
      "281 1.261362141056452 0.000620858249377676\n",
      "291 1.2290148333850084 0.0006243521055925195\n",
      "Validation Loss: 1.3954097032546997\n",
      "1 1.4020732030039653 0.0006274965761858785\n",
      "11 1.292467808452784 0.000630990432400722\n",
      "21 1.2357891160208965 0.0006344842886155654\n",
      "31 1.2125294538127491 0.0006379781448304088\n",
      "41 1.1962667828192934 0.0006414720010452522\n",
      "51 0.9352376659371657 0.0006449658572600956\n",
      "61 1.3779027817145106 0.0006484597134749392\n",
      "71 1.2526900117882178 0.0006519535696897825\n",
      "81 1.1809905606205575 0.0006554474259046259\n",
      "91 1.1780358024698216 0.0006589412821194694\n",
      "101 1.151289789879229 0.0006624351383343128\n",
      "111 1.1747572306048824 0.0006659289945491562\n",
      "121 1.0670656582151423 0.0006694228507639996\n",
      "131 1.282972823784803 0.0006729167069788431\n",
      "141 1.298962109722197 0.0006764105631936865\n",
      "151 1.2869923544349149 0.0006799044194085299\n",
      "161 1.240750309007126 0.0006833982756233733\n",
      "171 1.111528094195819 0.0006868921318382167\n",
      "181 1.3663440486961917 0.0006903859880530602\n",
      "191 1.1694926681739162 0.0006938798442679036\n",
      "201 1.1283144036424346 0.000697373700482747\n",
      "211 1.131852336191514 0.0007008675566975905\n",
      "221 1.0641825496677484 0.0007043614129124339\n",
      "231 1.3073735066282097 0.0007078552691272773\n",
      "241 1.4263174822117435 0.0007113491253421206\n",
      "251 1.120400537045498 0.0007148429815569642\n",
      "261 1.3357203928171657 0.0007183368377718075\n",
      "271 1.2061253780811967 0.0007218306939866509\n",
      "281 1.1503901628602762 0.0007253245502014943\n",
      "291 1.1337171947816387 0.0007288184064163378\n",
      "Validation Loss: 1.4324818849563599\n",
      "1 1.3782578203172307 0.0007319628770096968\n",
      "11 1.2988323289027903 0.0007354567332245402\n",
      "21 1.232051059807418 0.0007389505894393837\n",
      "31 1.115253693475097 0.0007424444456542272\n",
      "41 1.179871890344657 0.0007459383018690706\n",
      "51 0.8981494662257319 0.000749432158083914\n",
      "61 1.3047645328115323 0.0007529260142987574\n",
      "71 1.0939706805947935 0.0007564198705136008\n",
      "81 1.176106031620293 0.0007599137267284443\n",
      "91 1.100532508775359 0.0007634075829432877\n",
      "101 1.109158057035529 0.0007669014391581311\n",
      "111 1.0010092600277858 0.0007703952953729745\n",
      "121 1.002271793789987 0.0007738891515878179\n",
      "131 1.1938539755155944 0.0007773830078026613\n",
      "141 1.1666083478448854 0.0007808768640175048\n",
      "151 1.180228921919479 0.0007843707202323482\n",
      "161 1.1618530110863503 0.0007878645764471916\n",
      "171 1.069353596009023 0.000791358432662035\n",
      "181 1.2749904724096268 0.0007948522888768784\n",
      "191 1.114274993611616 0.0007983461450917219\n",
      "201 1.089441053380142 0.0008018400013065654\n",
      "211 1.0045169178629294 0.0008053338575214088\n",
      "221 1.072682509344304 0.0008088277137362522\n",
      "231 1.3235414682785631 0.0008123215699510955\n",
      "241 1.3435282655264018 0.0008158154261659389\n",
      "251 1.0461443591266288 0.0008193092823807825\n",
      "261 1.2661071487891604 0.0008228031385956259\n",
      "271 1.1644139359377732 0.0008262969948104693\n",
      "281 1.1633962772320956 0.0008297908510253127\n",
      "291 1.1759458339947741 0.0008332847072401561\n",
      "Validation Loss: 1.3875874280929565\n",
      "1 1.2735085433778295 0.0008364291778335151\n",
      "11 1.1461586857185466 0.0008399230340483585\n",
      "21 1.064128446407267 0.0008434168902632021\n",
      "31 1.0002312860888196 0.0008469107464780455\n",
      "41 1.143726117319602 0.0008504046026928889\n",
      "51 0.9190224119774939 0.0008538984589077323\n",
      "61 1.3097014172453783 0.0008573923151225757\n",
      "71 1.1947287687180506 0.0008608861713374191\n",
      "81 1.1269057591853198 0.0008643800275522627\n",
      "91 0.9593174883630127 0.0008678738837671061\n",
      "101 1.0530439581343671 0.0008713677399819495\n",
      "111 0.9445168717575143 0.0008748615961967928\n",
      "121 0.869418482092442 0.0008783554524116362\n",
      "131 1.1616156007039535 0.0008818493086264796\n",
      "141 1.2232186876353808 0.0008853431648413231\n",
      "151 1.2764583735261112 0.0008888370210561665\n",
      "161 1.119137984875124 0.00089233087727101\n",
      "171 1.0434537784130953 0.0008958247334858534\n",
      "181 1.2035326974018972 0.0008993185897006968\n",
      "191 1.1007387360514258 0.0009028124459155402\n",
      "201 1.090500655991491 0.0009063063021303837\n",
      "211 0.9782423442957224 0.0009098001583452271\n",
      "221 0.9861843729358952 0.0009132940145600705\n",
      "231 1.115969263461011 0.0009167878707749138\n",
      "241 1.3195042034058133 0.0009202817269897572\n",
      "251 1.0661219494213583 0.0009237755832046008\n",
      "261 1.1545277574132342 0.0009272694394194442\n",
      "271 1.071945752342799 0.0009307632956342876\n",
      "281 1.113873789741774 0.000934257151849131\n",
      "291 1.0292995582640287 0.0009377510080639744\n",
      "Validation Loss: 1.3581587076187134\n",
      "1 1.2929479189333506 0.0009408954786573335\n",
      "11 1.1718624838540563 0.0009443893348721769\n",
      "21 1.1017292863543844 0.0009478831910870203\n",
      "31 0.9735097524680896 0.0009513770473018638\n",
      "41 0.9228387531256885 0.0009548709035167072\n",
      "51 0.9450884924626735 0.0009583647597315506\n",
      "61 1.187622837624076 0.000961858615946394\n",
      "71 1.040101152670104 0.0009653524721612374\n",
      "81 1.2303383631442557 0.000968846328376081\n",
      "91 1.0789034282206558 0.0009723401845909244\n",
      "101 1.0607221008249326 0.0009758340408057677\n",
      "111 0.9950245211803121 0.000979327897020611\n",
      "121 0.9196796276446548 0.0009828217532354545\n",
      "131 1.21754909649826 0.000986315609450298\n",
      "141 1.1625276135255262 0.0009898094656651416\n",
      "151 1.1817731287301285 0.000993303321879985\n",
      "161 1.079447240306763 0.0009967971780948282\n",
      "171 1.0571177764213644 0.0010002910343096716\n",
      "181 1.2735289749962249 0.001003784890524515\n",
      "191 1.0914358769368846 0.0010072787467393584\n",
      "201 0.9727370426553534 0.001010772602954202\n",
      "211 1.0507628391860635 0.0010142664591690454\n",
      "221 0.9987068022364838 0.0010177603153838889\n",
      "231 1.206853894102096 0.0010212541715987323\n",
      "241 1.4019715484319022 0.0010247480278135757\n",
      "251 1.0156298488436732 0.0010282418840284189\n",
      "261 1.1727195226121694 0.0010317357402432625\n",
      "271 1.102436116678291 0.001035229596458106\n",
      "281 1.1125840537133627 0.0010387234526729493\n",
      "291 1.024199123145081 0.0010422173088877927\n",
      "Validation Loss: 1.289865255355835\n",
      "1 1.2040854775041225 0.0010453617794811518\n",
      "11 1.1147344638884533 0.0010488556356959952\n",
      "21 0.996667948551476 0.0010523494919108386\n",
      "31 0.8825357180976425 0.0010558433481256822\n",
      "41 0.9437629431231471 0.0010593372043405254\n",
      "51 0.8069704492409073 0.0010628310605553689\n",
      "61 1.185553378178156 0.0010663249167702123\n",
      "71 1.0275857857850497 0.0010698187729850557\n",
      "81 0.9591209341815556 0.0010733126291998993\n",
      "91 1.0204773104997003 0.0010768064854147427\n",
      "101 1.0126625377379241 0.0010803003416295861\n",
      "111 0.9212226435774937 0.0010837941978444295\n",
      "121 0.8611740558917518 0.001087288054059273\n",
      "131 1.1674933732138015 0.0010907819102741162\n",
      "141 1.0238394595908176 0.0010942757664889598\n",
      "151 1.150020420376677 0.0010977696227038032\n",
      "161 1.074496862187516 0.0011012634789186466\n",
      "171 0.9852203672271571 0.00110475733513349\n",
      "181 1.2774685961539944 0.0011082511913483334\n",
      "191 1.0595909944095183 0.0011117450475631768\n",
      "201 0.9676533462770749 0.0011152389037780203\n",
      "211 0.9030620068733697 0.0011187327599928637\n",
      "221 1.010740471245299 0.001122226616207707\n",
      "231 1.1654648657640791 0.0011257204724225505\n",
      "241 1.2720837129018037 0.001129214328637394\n",
      "251 1.0366618904226925 0.0011327081848522373\n",
      "261 1.1249831391451153 0.001136202041067081\n",
      "271 1.0537603996999678 0.0011396958972819241\n",
      "281 1.1962284366600215 0.0011431897534967676\n",
      "291 0.9438388593116542 0.001146683609711611\n",
      "Validation Loss: 1.262258529663086\n",
      "1 1.1500830931618111 0.00114982808030497\n",
      "11 1.1624985644230037 0.0011533219365198134\n",
      "21 0.9951512650877703 0.0011568157927346568\n",
      "31 0.9252967545544379 0.0011603096489495005\n",
      "41 0.9460388223815244 0.0011638035051643439\n",
      "51 0.832157310378534 0.0011672973613791873\n",
      "61 1.0756394551790436 0.0011707912175940307\n",
      "71 0.9476009405661898 0.0011742850738088741\n",
      "81 1.0109797237018938 0.0011777789300237175\n",
      "91 0.9987183418634231 0.001181272786238561\n",
      "101 1.048898082015512 0.0011847666424534044\n",
      "111 1.000206845717912 0.0011882604986682478\n",
      "121 0.804979006308713 0.0011917543548830912\n",
      "131 1.1435321214321448 0.0011952482110979346\n",
      "141 1.137794672693417 0.0011987420673127782\n",
      "151 1.1652641630353173 0.0012022359235276214\n",
      "161 1.1409497900313 0.0012057297797424648\n",
      "171 0.8151734262573882 0.0012092236359573082\n",
      "181 1.1077351457843179 0.0012127174921721516\n",
      "191 0.9652422334329458 0.001216211348386995\n",
      "201 0.8759471151570324 0.0012197052046018387\n",
      "211 0.8725419518668787 0.001223199060816682\n",
      "221 0.8614212059346755 0.0012266929170315255\n",
      "231 1.2166644141543657 0.001230186773246369\n",
      "241 1.2932546429947251 0.0012336806294612121\n",
      "251 0.9524832976785547 0.0012371744856760555\n",
      "261 1.0835713702545036 0.0012406683418908992\n",
      "271 1.00187460590314 0.0012441621981057426\n",
      "281 1.0497401520842686 0.001247656054320586\n",
      "291 1.0059428361055325 0.0012511499105354294\n",
      "Validation Loss: 1.250041127204895\n",
      "1 1.1035999256710056 0.0012542943811287885\n",
      "11 1.0266619899921352 0.0012577882373436319\n",
      "21 1.0688173293310683 0.0012612820935584753\n",
      "31 0.9987240951886633 0.0012647759497733187\n",
      "41 0.928755188404466 0.001268269805988162\n",
      "51 0.8864595992490649 0.0012717636622030055\n",
      "61 1.1839847765440936 0.001275257518417849\n",
      "71 0.979696042901196 0.0012787513746326923\n",
      "81 1.018429809344525 0.0012822452308475357\n",
      "91 1.0177874406945193 0.0012857390870623794\n",
      "101 0.9838779901838279 0.0012892329432772228\n",
      "111 0.9417237505622325 0.0012927267994920662\n",
      "121 0.879176366077445 0.0012962206557069094\n",
      "131 1.084340685083589 0.0012997145119217528\n",
      "141 1.1020703022368252 0.0013032083681365962\n",
      "151 1.1582922258821782 0.0013067022243514399\n",
      "161 0.9046402271196712 0.0013101960805662833\n",
      "171 0.9134215095109539 0.0013136899367811267\n",
      "181 1.1284677201365412 0.00131718379299597\n",
      "191 0.9124094534417964 0.0013206776492108135\n",
      "201 1.0154428962414386 0.001324171505425657\n",
      "211 0.9425669760967139 0.0013276653616405003\n",
      "221 0.98108842752481 0.0013311592178553437\n",
      "231 1.2411799166584387 0.0013346530740701871\n",
      "241 1.3029563301970484 0.0013381469302850306\n",
      "251 1.0824195790919475 0.001341640786499874\n",
      "261 1.1940062880166806 0.0013451346427147174\n",
      "271 1.069575281584548 0.0013486284989295608\n",
      "281 1.0774446472350974 0.0013521223551444042\n",
      "291 0.9394786188349826 0.0013556162113592476\n",
      "Validation Loss: 1.2098067998886108\n",
      "1 1.123415744092199 0.0013587606819526067\n",
      "11 1.0813124028936727 0.00136225453816745\n",
      "21 0.8608557362458669 0.0013657483943822935\n",
      "31 0.9713211072230479 0.0013692422505971371\n",
      "41 0.9036387798587384 0.0013727361068119805\n",
      "51 0.8235500302253058 0.001376229963026824\n",
      "61 1.047585595442797 0.0013797238192416674\n",
      "71 1.035092958383757 0.0013832176754565108\n",
      "81 1.0902272301609628 0.001386711531671354\n",
      "91 1.0531177442026092 0.0013902053878861974\n",
      "101 1.119398247137724 0.0013936992441010408\n",
      "111 0.9370577299414435 0.0013971931003158842\n",
      "121 0.8189679725619499 0.0013959728988228756\n",
      "131 1.0564399802951812 0.0013942351004412113\n",
      "141 1.0575778851343784 0.0013925037759183584\n",
      "151 1.0368491999979597 0.0013907788851585368\n",
      "161 1.084681847540196 0.001389060388412774\n",
      "171 0.861991561454488 0.0013873482462750562\n",
      "181 1.1994341886493203 0.0013856424196785342\n",
      "191 0.8703713279464864 0.00138394286989178\n",
      "201 0.8563670406292658 0.0013822495585150908\n",
      "211 0.8938819400937064 0.0013805624474768478\n",
      "221 1.0551052086957498 0.00137888149902992\n",
      "231 1.0996038675730233 0.001377206675748116\n",
      "241 1.2603256621514447 0.001375537940522685\n",
      "251 0.955079097460839 0.0013738752565588634\n",
      "261 1.0582521125379571 0.0013722185873724672\n",
      "271 1.000831718356494 0.0013705678967865296\n",
      "281 1.0315534219989786 0.001368923148927983\n",
      "291 0.9614037413775804 0.0013672843082243834\n",
      "Validation Loss: 1.1844662427902222\n",
      "1 1.039426216011634 0.0013658143730477018\n",
      "11 0.9969733959733276 0.0013641866589989649\n",
      "21 0.943480471818475 0.0013625647506154605\n",
      "31 0.8478723181906389 0.0013609486134666944\n",
      "41 0.8021430129883811 0.0013593382134073615\n",
      "51 0.8741594065722893 0.0013577335165743164\n",
      "61 1.0016920253547141 0.001356134489383582\n",
      "71 0.8710009709611768 0.0013545410985273988\n",
      "81 1.0518239759257995 0.0013529533109713095\n",
      "91 1.051401039607299 0.0013513710939512833\n",
      "101 1.0692442796425894 0.0013497944149708752\n",
      "111 0.8806398425804218 0.0013482232417984248\n",
      "121 0.8309348756592954 0.0013466575424642866\n",
      "131 1.032300209699315 0.001345097285258099\n",
      "141 1.0959586935277912 0.0013435424387260868\n",
      "151 1.070195422929828 0.0013419929716683976\n",
      "161 0.9840277301846072 0.0013404488531364729\n",
      "171 0.8795797464117641 0.0013389100524304506\n",
      "181 1.1041719045424543 0.0013373765390966028\n",
      "191 0.894358403107617 0.0013358482829248042\n",
      "201 0.7843551199039211 0.0013343252539460312\n",
      "211 0.827901826974994 0.001332807422429895\n",
      "221 0.8589863172092009 0.0013312947588822032\n",
      "231 1.0033935309184017 0.0013297872340425534\n",
      "241 1.23199771020154 0.001328284818881955\n",
      "251 0.9513456548083923 0.001326787484600482\n",
      "261 1.0392391936638887 0.0013252952026249546\n",
      "271 0.9548915699633653 0.0013238079446066485\n",
      "281 1.0563414623320568 0.0013223256824190324\n",
      "291 0.9408158586738864 0.001320848388155536\n",
      "Validation Loss: 1.2076733112335205\n",
      "1 1.0524137217144016 0.001319523048004239\n",
      "11 0.9853032405808335 0.0013180551166920916\n",
      "21 0.834298944886541 0.0013165920735986156\n",
      "31 0.9152249488106463 0.0013151338916542452\n",
      "41 0.9437290350178955 0.001313680543998816\n",
      "51 0.7849653420271352 0.0013122320039794864\n",
      "61 1.0040632252785144 0.001310788245148685\n",
      "71 0.8589913270370744 0.001309349241262083\n",
      "81 0.92541578097007 0.0013079149662765892\n",
      "91 0.9302787623746553 0.0013064853943483715\n",
      "101 0.8811088776383258 0.0013050604998309004\n",
      "111 0.7703982421808178 0.0013036402572730174\n",
      "121 0.6730981791406521 0.0013022246414170241\n",
      "131 0.8746860577193729 0.0013008136271967974\n",
      "141 0.9234231542704947 0.0012994071897359238\n",
      "151 0.9447242523601744 0.0012980053043458585\n",
      "161 0.8641265073383693 0.0012966079465241047\n",
      "171 0.7661937332013622 0.0012952150919524146\n",
      "181 0.9718337735248497 0.0012938267164950116\n",
      "191 0.8144732072760235 0.0012924427961968354\n",
      "201 0.7182533104642062 0.0012910633072818042\n",
      "211 0.7504169420353719 0.0012896882261510998\n",
      "221 0.7437698027933948 0.0012883175293814716\n",
      "231 0.995347761308949 0.0012869511937235617\n",
      "241 1.006910954209161 0.0012855891961002475\n",
      "251 0.927807691590715 0.0012842315136050058\n",
      "261 1.00624038544629 0.001282878123500294\n",
      "271 0.9382088233542163 0.00128152900321595\n",
      "281 0.8408727943315171 0.0012801841303476133\n",
      "291 0.8311203757184558 0.0012788434826551604\n",
      "Validation Loss: 1.0662707090377808\n",
      "1 0.9056873639929108 0.0012776404940070005\n",
      "11 0.9846589370572474 0.001276307813458642\n",
      "21 0.6793741894362029 0.0012749792945043847\n",
      "31 0.8458898629105533 0.0012736549155300352\n"
     ]
    },
    {
     "ename": "KeyboardInterrupt",
     "evalue": "",
     "output_type": "error",
     "traceback": [
      "\u001b[0;31m---------------------------------------------------------------------------\u001b[0m",
      "\u001b[0;31mKeyboardInterrupt\u001b[0m                         Traceback (most recent call last)",
      "Input \u001b[0;32mIn [75]\u001b[0m, in \u001b[0;36m<cell line: 1>\u001b[0;34m()\u001b[0m\n\u001b[1;32m      1\u001b[0m \u001b[38;5;28;01mfor\u001b[39;00m epoch \u001b[38;5;129;01min\u001b[39;00m \u001b[38;5;28mrange\u001b[39m(\u001b[38;5;241m20\u001b[39m):\n\u001b[0;32m----> 2\u001b[0m     \u001b[43mtrain_epoch\u001b[49m\u001b[43m(\u001b[49m\u001b[43mdata_gen\u001b[49m\u001b[43m(\u001b[49m\u001b[43mtrain_data_loader\u001b[49m\u001b[43m)\u001b[49m\u001b[43m,\u001b[49m\u001b[43m \u001b[49m\u001b[43mmodel\u001b[49m\u001b[43m,\u001b[49m\u001b[43m \u001b[49m\u001b[43mcriterion\u001b[49m\u001b[43m,\u001b[49m\u001b[43m \u001b[49m\u001b[43mmodel_opt\u001b[49m\u001b[43m)\u001b[49m\n\u001b[1;32m      3\u001b[0m     \u001b[38;5;28mprint\u001b[39m(\u001b[38;5;124m\"\u001b[39m\u001b[38;5;124mValidation Loss:\u001b[39m\u001b[38;5;124m\"\u001b[39m, valid_epoch(data_gen(val_data_loader), model, criterion)\u001b[38;5;241m.\u001b[39mitem())\n",
      "Input \u001b[0;32mIn [70]\u001b[0m, in \u001b[0;36mtrain_epoch\u001b[0;34m(train_iter, model, criterion, opt)\u001b[0m\n\u001b[1;32m     13\u001b[0m out \u001b[38;5;241m=\u001b[39m model\u001b[38;5;241m.\u001b[39mforward(src, trg[:, :\u001b[38;5;241m-\u001b[39m\u001b[38;5;241m1\u001b[39m], src_mask, trg_mask[:, :\u001b[38;5;241m-\u001b[39m\u001b[38;5;241m1\u001b[39m, :\u001b[38;5;241m-\u001b[39m\u001b[38;5;241m1\u001b[39m])\n\u001b[1;32m     14\u001b[0m loss \u001b[38;5;241m=\u001b[39m loss_backprop(model\u001b[38;5;241m.\u001b[39mgenerator, criterion, \n\u001b[1;32m     15\u001b[0m                      out, trg[:, \u001b[38;5;241m1\u001b[39m:], batch\u001b[38;5;241m.\u001b[39mntokens) \n\u001b[0;32m---> 17\u001b[0m \u001b[43mmodel_opt\u001b[49m\u001b[38;5;241;43m.\u001b[39;49m\u001b[43mstep\u001b[49m\u001b[43m(\u001b[49m\u001b[43m)\u001b[49m\n\u001b[1;32m     18\u001b[0m model_opt\u001b[38;5;241m.\u001b[39moptimizer\u001b[38;5;241m.\u001b[39mzero_grad()\n\u001b[1;32m     19\u001b[0m \u001b[38;5;28;01mif\u001b[39;00m i \u001b[38;5;241m%\u001b[39m \u001b[38;5;241m10\u001b[39m \u001b[38;5;241m==\u001b[39m \u001b[38;5;241m1\u001b[39m:\n",
      "Input \u001b[0;32mIn [9]\u001b[0m, in \u001b[0;36mNoamOpt.step\u001b[0;34m(self)\u001b[0m\n\u001b[1;32m     18\u001b[0m     p[\u001b[38;5;124m'\u001b[39m\u001b[38;5;124mlr\u001b[39m\u001b[38;5;124m'\u001b[39m] \u001b[38;5;241m=\u001b[39m rate\n\u001b[1;32m     19\u001b[0m \u001b[38;5;28mself\u001b[39m\u001b[38;5;241m.\u001b[39m_rate \u001b[38;5;241m=\u001b[39m rate\n\u001b[0;32m---> 20\u001b[0m \u001b[38;5;28;43mself\u001b[39;49m\u001b[38;5;241;43m.\u001b[39;49m\u001b[43moptimizer\u001b[49m\u001b[38;5;241;43m.\u001b[39;49m\u001b[43mstep\u001b[49m\u001b[43m(\u001b[49m\u001b[43m)\u001b[49m\n",
      "File \u001b[0;32m~/anaconda3/envs/torch/lib/python3.8/site-packages/torch/optim/optimizer.py:88\u001b[0m, in \u001b[0;36mOptimizer._hook_for_profile.<locals>.profile_hook_step.<locals>.wrapper\u001b[0;34m(*args, **kwargs)\u001b[0m\n\u001b[1;32m     86\u001b[0m profile_name \u001b[38;5;241m=\u001b[39m \u001b[38;5;124m\"\u001b[39m\u001b[38;5;124mOptimizer.step#\u001b[39m\u001b[38;5;132;01m{}\u001b[39;00m\u001b[38;5;124m.step\u001b[39m\u001b[38;5;124m\"\u001b[39m\u001b[38;5;241m.\u001b[39mformat(obj\u001b[38;5;241m.\u001b[39m\u001b[38;5;18m__class__\u001b[39m\u001b[38;5;241m.\u001b[39m\u001b[38;5;18m__name__\u001b[39m)\n\u001b[1;32m     87\u001b[0m \u001b[38;5;28;01mwith\u001b[39;00m torch\u001b[38;5;241m.\u001b[39mautograd\u001b[38;5;241m.\u001b[39mprofiler\u001b[38;5;241m.\u001b[39mrecord_function(profile_name):\n\u001b[0;32m---> 88\u001b[0m     \u001b[38;5;28;01mreturn\u001b[39;00m \u001b[43mfunc\u001b[49m\u001b[43m(\u001b[49m\u001b[38;5;241;43m*\u001b[39;49m\u001b[43margs\u001b[49m\u001b[43m,\u001b[49m\u001b[43m \u001b[49m\u001b[38;5;241;43m*\u001b[39;49m\u001b[38;5;241;43m*\u001b[39;49m\u001b[43mkwargs\u001b[49m\u001b[43m)\u001b[49m\n",
      "File \u001b[0;32m~/anaconda3/envs/torch/lib/python3.8/site-packages/torch/autograd/grad_mode.py:28\u001b[0m, in \u001b[0;36m_DecoratorContextManager.__call__.<locals>.decorate_context\u001b[0;34m(*args, **kwargs)\u001b[0m\n\u001b[1;32m     25\u001b[0m \u001b[38;5;129m@functools\u001b[39m\u001b[38;5;241m.\u001b[39mwraps(func)\n\u001b[1;32m     26\u001b[0m \u001b[38;5;28;01mdef\u001b[39;00m \u001b[38;5;21mdecorate_context\u001b[39m(\u001b[38;5;241m*\u001b[39margs, \u001b[38;5;241m*\u001b[39m\u001b[38;5;241m*\u001b[39mkwargs):\n\u001b[1;32m     27\u001b[0m     \u001b[38;5;28;01mwith\u001b[39;00m \u001b[38;5;28mself\u001b[39m\u001b[38;5;241m.\u001b[39m\u001b[38;5;18m__class__\u001b[39m():\n\u001b[0;32m---> 28\u001b[0m         \u001b[38;5;28;01mreturn\u001b[39;00m \u001b[43mfunc\u001b[49m\u001b[43m(\u001b[49m\u001b[38;5;241;43m*\u001b[39;49m\u001b[43margs\u001b[49m\u001b[43m,\u001b[49m\u001b[43m \u001b[49m\u001b[38;5;241;43m*\u001b[39;49m\u001b[38;5;241;43m*\u001b[39;49m\u001b[43mkwargs\u001b[49m\u001b[43m)\u001b[49m\n",
      "File \u001b[0;32m~/anaconda3/envs/torch/lib/python3.8/site-packages/torch/optim/adam.py:133\u001b[0m, in \u001b[0;36mAdam.step\u001b[0;34m(self, closure)\u001b[0m\n\u001b[1;32m    130\u001b[0m             \u001b[38;5;66;03m# record the step after step update\u001b[39;00m\n\u001b[1;32m    131\u001b[0m             state_steps\u001b[38;5;241m.\u001b[39mappend(state[\u001b[38;5;124m'\u001b[39m\u001b[38;5;124mstep\u001b[39m\u001b[38;5;124m'\u001b[39m])\n\u001b[0;32m--> 133\u001b[0m     \u001b[43mF\u001b[49m\u001b[38;5;241;43m.\u001b[39;49m\u001b[43madam\u001b[49m\u001b[43m(\u001b[49m\u001b[43mparams_with_grad\u001b[49m\u001b[43m,\u001b[49m\n\u001b[1;32m    134\u001b[0m \u001b[43m           \u001b[49m\u001b[43mgrads\u001b[49m\u001b[43m,\u001b[49m\n\u001b[1;32m    135\u001b[0m \u001b[43m           \u001b[49m\u001b[43mexp_avgs\u001b[49m\u001b[43m,\u001b[49m\n\u001b[1;32m    136\u001b[0m \u001b[43m           \u001b[49m\u001b[43mexp_avg_sqs\u001b[49m\u001b[43m,\u001b[49m\n\u001b[1;32m    137\u001b[0m \u001b[43m           \u001b[49m\u001b[43mmax_exp_avg_sqs\u001b[49m\u001b[43m,\u001b[49m\n\u001b[1;32m    138\u001b[0m \u001b[43m           \u001b[49m\u001b[43mstate_steps\u001b[49m\u001b[43m,\u001b[49m\n\u001b[1;32m    139\u001b[0m \u001b[43m           \u001b[49m\u001b[43mamsgrad\u001b[49m\u001b[38;5;241;43m=\u001b[39;49m\u001b[43mgroup\u001b[49m\u001b[43m[\u001b[49m\u001b[38;5;124;43m'\u001b[39;49m\u001b[38;5;124;43mamsgrad\u001b[39;49m\u001b[38;5;124;43m'\u001b[39;49m\u001b[43m]\u001b[49m\u001b[43m,\u001b[49m\n\u001b[1;32m    140\u001b[0m \u001b[43m           \u001b[49m\u001b[43mbeta1\u001b[49m\u001b[38;5;241;43m=\u001b[39;49m\u001b[43mbeta1\u001b[49m\u001b[43m,\u001b[49m\n\u001b[1;32m    141\u001b[0m \u001b[43m           \u001b[49m\u001b[43mbeta2\u001b[49m\u001b[38;5;241;43m=\u001b[39;49m\u001b[43mbeta2\u001b[49m\u001b[43m,\u001b[49m\n\u001b[1;32m    142\u001b[0m \u001b[43m           \u001b[49m\u001b[43mlr\u001b[49m\u001b[38;5;241;43m=\u001b[39;49m\u001b[43mgroup\u001b[49m\u001b[43m[\u001b[49m\u001b[38;5;124;43m'\u001b[39;49m\u001b[38;5;124;43mlr\u001b[39;49m\u001b[38;5;124;43m'\u001b[39;49m\u001b[43m]\u001b[49m\u001b[43m,\u001b[49m\n\u001b[1;32m    143\u001b[0m \u001b[43m           \u001b[49m\u001b[43mweight_decay\u001b[49m\u001b[38;5;241;43m=\u001b[39;49m\u001b[43mgroup\u001b[49m\u001b[43m[\u001b[49m\u001b[38;5;124;43m'\u001b[39;49m\u001b[38;5;124;43mweight_decay\u001b[39;49m\u001b[38;5;124;43m'\u001b[39;49m\u001b[43m]\u001b[49m\u001b[43m,\u001b[49m\n\u001b[1;32m    144\u001b[0m \u001b[43m           \u001b[49m\u001b[43meps\u001b[49m\u001b[38;5;241;43m=\u001b[39;49m\u001b[43mgroup\u001b[49m\u001b[43m[\u001b[49m\u001b[38;5;124;43m'\u001b[39;49m\u001b[38;5;124;43meps\u001b[39;49m\u001b[38;5;124;43m'\u001b[39;49m\u001b[43m]\u001b[49m\u001b[43m)\u001b[49m\n\u001b[1;32m    145\u001b[0m \u001b[38;5;28;01mreturn\u001b[39;00m loss\n",
      "File \u001b[0;32m~/anaconda3/envs/torch/lib/python3.8/site-packages/torch/optim/_functional.py:87\u001b[0m, in \u001b[0;36madam\u001b[0;34m(params, grads, exp_avgs, exp_avg_sqs, max_exp_avg_sqs, state_steps, amsgrad, beta1, beta2, lr, weight_decay, eps)\u001b[0m\n\u001b[1;32m     85\u001b[0m \u001b[38;5;66;03m# Decay the first and second moment running average coefficient\u001b[39;00m\n\u001b[1;32m     86\u001b[0m exp_avg\u001b[38;5;241m.\u001b[39mmul_(beta1)\u001b[38;5;241m.\u001b[39madd_(grad, alpha\u001b[38;5;241m=\u001b[39m\u001b[38;5;241m1\u001b[39m \u001b[38;5;241m-\u001b[39m beta1)\n\u001b[0;32m---> 87\u001b[0m \u001b[43mexp_avg_sq\u001b[49m\u001b[38;5;241;43m.\u001b[39;49m\u001b[43mmul_\u001b[49m\u001b[43m(\u001b[49m\u001b[43mbeta2\u001b[49m\u001b[43m)\u001b[49m\u001b[38;5;241m.\u001b[39maddcmul_(grad, grad\u001b[38;5;241m.\u001b[39mconj(), value\u001b[38;5;241m=\u001b[39m\u001b[38;5;241m1\u001b[39m \u001b[38;5;241m-\u001b[39m beta2)\n\u001b[1;32m     88\u001b[0m \u001b[38;5;28;01mif\u001b[39;00m amsgrad:\n\u001b[1;32m     89\u001b[0m     \u001b[38;5;66;03m# Maintains the maximum of all 2nd moment running avg. till now\u001b[39;00m\n\u001b[1;32m     90\u001b[0m     torch\u001b[38;5;241m.\u001b[39mmaximum(max_exp_avg_sqs[i], exp_avg_sq, out\u001b[38;5;241m=\u001b[39mmax_exp_avg_sqs[i])\n",
      "\u001b[0;31mKeyboardInterrupt\u001b[0m: "
     ]
    }
   ],
   "source": [
    "for epoch in range(20):\n",
    "    train_epoch(data_gen(train_data_loader), model, criterion, model_opt)\n",
    "    print(\"Validation Loss:\", valid_epoch(data_gen(val_data_loader), model, criterion).item())"
   ]
  },
  {
   "cell_type": "code",
   "execution_count": 37,
   "id": "bb25e466-d9c8-4cf2-bfaa-11e9abf188a2",
   "metadata": {},
   "outputs": [
    {
     "data": {
      "text/plain": [
       "'cuda'"
      ]
     },
     "execution_count": 37,
     "metadata": {},
     "output_type": "execute_result"
    }
   ],
   "source": [
    "'cuda' if torch.cuda.is_available() else 'cpu'"
   ]
  },
  {
   "cell_type": "code",
   "execution_count": 77,
   "id": "b7ad3d9d-5099-4549-999e-6204a9b20e84",
   "metadata": {},
   "outputs": [
    {
     "name": "stdout",
     "output_type": "stream",
     "text": [
      "elles sont toutes en vacances .\n",
      "SOS they re all on vacation . EOS\n",
      "SOS they re all on vacation . EOS\n",
      "\n",
      "c est un gentleman .\n",
      "SOS he is a gentleman . EOS\n",
      "SOS he s a famous singer . EOS\n",
      "\n",
      "c est vous l instituteur .\n",
      "SOS you re the teacher . EOS\n",
      "SOS you re the teacher . EOS\n",
      "\n",
      "vous etes tres perspicace .\n",
      "SOS you re very perceptive . EOS\n",
      "SOS you re very sensitive to us . EOS\n",
      "\n",
      "elle est occupee a preparer le voyage .\n",
      "SOS she is busy preparing for the trip . EOS\n",
      "SOS she s busy preparing for the trip . EOS\n",
      "\n",
      "vous etes trop confiant .\n",
      "SOS you re too trusting . EOS\n",
      "SOS you re too skinny . EOS\n",
      "\n",
      "nous sommes tres reconnaissantes .\n",
      "SOS we re very grateful . EOS\n",
      "SOS we re anxious . EOS\n",
      "\n",
      "je suis desolee . j ai oublie .\n",
      "SOS i m sorry . i forgot . EOS\n",
      "SOS i m sorry for the news . EOS\n",
      "\n",
      "je crains que tom ne se perde .\n",
      "SOS i m afraid tom will get lost . EOS\n",
      "SOS i m just married as tom . EOS\n",
      "\n",
      "il est probable qu il gagne le jeu .\n",
      "SOS he is likely to win the game . EOS\n",
      "SOS he s likely to win the game . EOS\n",
      "\n"
     ]
    }
   ],
   "source": [
    "def convert_to_lang(sentence, lang):\n",
    "    text = [lang.index2word[sentence[i]] for i in range(len(sentence))]\n",
    "    return ' '.join(text)\n",
    "\n",
    "def eval_on_sentence(model, x):\n",
    "    model.eval()\n",
    "    device = 'cuda' if torch.cuda.is_available() else 'cpu'\n",
    "    model = model.to(device)\n",
    "    x = x.unsqueeze(0)\n",
    "    y_pred = [english_lang.word2index['SOS']]\n",
    "    count = 0\n",
    "    while y_pred[-1]!=2 and count < 20: # 2 is the EOSToken\n",
    "        src = x\n",
    "        tgt = torch.tensor(y_pred).unsqueeze(0)\n",
    "        src_mask, tgt_mask = make_std_mask(src, tgt, 0)\n",
    "        src = src.to(device)\n",
    "        tgt = tgt.to(device)\n",
    "        src_mask = src_mask.to(device)\n",
    "        tgt_mask = tgt_mask.to(device)\n",
    "        out = model(src, tgt, src_mask, tgt_mask) # 1 x L x 512\n",
    "        out = model.generator(out) # 1 x L x dict_size\n",
    "        out = torch.exp(out)\n",
    "        topv, topi = out.topk(1, dim=-1)\n",
    "        #print(topi, topi.shape, y_pred)\n",
    "        y_pred.append(topi[0, -1, 0].item())\n",
    "        count+=1\n",
    "        \n",
    "    return y_pred\n",
    "        \n",
    "def eval_on_sentences(model, dataset, lang1, lang2, num=10):\n",
    "    for i in range(num):\n",
    "        idx = random.randrange(len(dataset))\n",
    "        x, y = dataset[idx]\n",
    "        y_pred = eval_on_sentence(model, x)\n",
    "        print(convert_to_lang(x.numpy(), lang1))\n",
    "        print(convert_to_lang(y.numpy(), lang2))\n",
    "        print(convert_to_lang(y_pred, lang2))\n",
    "        print()\n",
    "              \n",
    "eval_on_sentences(model, dataset, french_lang, english_lang, num=10)"
   ]
  },
  {
   "cell_type": "code",
   "execution_count": null,
   "id": "23d268ec-f2b6-42e5-993c-09353b0669aa",
   "metadata": {},
   "outputs": [],
   "source": []
  }
 ],
 "metadata": {
  "kernelspec": {
   "display_name": "torch",
   "language": "python",
   "name": "torch"
  },
  "language_info": {
   "codemirror_mode": {
    "name": "ipython",
    "version": 3
   },
   "file_extension": ".py",
   "mimetype": "text/x-python",
   "name": "python",
   "nbconvert_exporter": "python",
   "pygments_lexer": "ipython3",
   "version": "3.8.12"
  }
 },
 "nbformat": 4,
 "nbformat_minor": 5
}
