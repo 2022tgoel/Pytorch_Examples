{
 "cells": [
  {
   "cell_type": "markdown",
   "id": "7f6644e0-1a19-4777-b923-cdace2943fd5",
   "metadata": {},
   "source": [
    "# PINN for Burger's Equation\n",
    "Resources:\n",
    "https://github.com/benmoseley/harmonic-oscillator-pinn/blob/main/Harmonic%20oscillator%20PINN.ipynb\n",
    "https://www.mathworks.com/help/deeplearning/ug/solve-partial-differential-equations-using-deep-learning.html\n",
    "https://colab.research.google.com/github/janblechschmidt/PDEsByNNs/blob/main/PINN_Solver.ipynb#scrollTo=pQhmdtsqZEkj"
   ]
  },
  {
   "cell_type": "code",
   "execution_count": 74,
   "id": "adb8671e-758b-42e0-b4ea-7e66fa566754",
   "metadata": {},
   "outputs": [],
   "source": [
    "import numpy as np\n",
    "import torch\n",
    "\n",
    "boundary_points = 25 # actually 2*boundary_points, so 50\n",
    "# boundary conditions\n",
    "x_b = np.ones(2*boundary_points)\n",
    "x_b[:boundary_points] = -1*x_b[:boundary_points]\n",
    "t_b = np.linspace(0, 1, boundary_points)\n",
    "t_b = np.concatenate((t_b, t_b))\n",
    "u_b = np.zeros(2*boundary_points)\n",
    "\n",
    "# inital conditions (t=0) \n",
    "initial_points = 50 # initial conditions\n",
    "t_0 = np.zeros(initial_points)\n",
    "x_0 = np.linspace(-1, 1, initial_points)\n",
    "u_0 = -np.sin(x_0*np.pi)\n",
    "\n",
    "# combine\n",
    "t_c = np.concatenate((t_b, t_0))\n",
    "x_c = np.concatenate((x_b, x_0))\n",
    "u_c = np.concatenate((u_b, u_0))\n",
    "\n",
    "# collocation points\n",
    "num = 100\n",
    "t = np.linspace(0, 1, num)\n",
    "x = np.linspace(-1, 1, num)\n",
    "t, x = np.meshgrid(t, x)\n",
    "t = t.flatten()\n",
    "x = x.flatten()\n",
    "\n",
    "# convert to tensor\n",
    "t = torch.tensor(t, dtype=torch.float)\n",
    "x = torch.tensor(x, dtype=torch.float)\n",
    "\n",
    "t_c = torch.tensor(t_c, dtype=torch.float)\n",
    "x_c = torch.tensor(x_c, dtype=torch.float)\n",
    "u_c = torch.tensor(u_c, dtype=torch.float)"
   ]
  },
  {
   "cell_type": "code",
   "execution_count": 95,
   "id": "827c40c6-9afa-4732-94c0-660d4aeb0f28",
   "metadata": {},
   "outputs": [
    {
     "data": {
      "text/plain": [
       "tensor([0.0000, 0.0417, 0.0833, 0.1250, 0.1667, 0.2083, 0.2500, 0.2917, 0.3333,\n",
       "        0.3750, 0.4167, 0.4583, 0.5000, 0.5417, 0.5833, 0.6250, 0.6667, 0.7083,\n",
       "        0.7500, 0.7917, 0.8333, 0.8750, 0.9167, 0.9583, 1.0000, 0.0000, 0.0417,\n",
       "        0.0833, 0.1250, 0.1667, 0.2083, 0.2500, 0.2917, 0.3333, 0.3750, 0.4167,\n",
       "        0.4583, 0.5000, 0.5417, 0.5833, 0.6250, 0.6667, 0.7083, 0.7500, 0.7917,\n",
       "        0.8333, 0.8750, 0.9167, 0.9583, 1.0000, 0.0000, 0.0000, 0.0000, 0.0000,\n",
       "        0.0000, 0.0000, 0.0000, 0.0000, 0.0000, 0.0000, 0.0000, 0.0000, 0.0000,\n",
       "        0.0000, 0.0000, 0.0000, 0.0000, 0.0000, 0.0000, 0.0000, 0.0000, 0.0000,\n",
       "        0.0000, 0.0000, 0.0000, 0.0000, 0.0000, 0.0000, 0.0000, 0.0000, 0.0000,\n",
       "        0.0000, 0.0000, 0.0000, 0.0000, 0.0000, 0.0000, 0.0000, 0.0000, 0.0000,\n",
       "        0.0000, 0.0000, 0.0000, 0.0000, 0.0000, 0.0000, 0.0000, 0.0000, 0.0000,\n",
       "        0.0000], requires_grad=True)"
      ]
     },
     "execution_count": 95,
     "metadata": {},
     "output_type": "execute_result"
    }
   ],
   "source": [
    "t_c"
   ]
  },
  {
   "cell_type": "code",
   "execution_count": 94,
   "id": "c7e58478-2d0b-4e0f-8582-0901764ce096",
   "metadata": {},
   "outputs": [
    {
     "data": {
      "text/plain": [
       "tensor([-1.0000, -1.0000, -1.0000, -1.0000, -1.0000, -1.0000, -1.0000, -1.0000,\n",
       "        -1.0000, -1.0000, -1.0000, -1.0000, -1.0000, -1.0000, -1.0000, -1.0000,\n",
       "        -1.0000, -1.0000, -1.0000, -1.0000, -1.0000, -1.0000, -1.0000, -1.0000,\n",
       "        -1.0000,  1.0000,  1.0000,  1.0000,  1.0000,  1.0000,  1.0000,  1.0000,\n",
       "         1.0000,  1.0000,  1.0000,  1.0000,  1.0000,  1.0000,  1.0000,  1.0000,\n",
       "         1.0000,  1.0000,  1.0000,  1.0000,  1.0000,  1.0000,  1.0000,  1.0000,\n",
       "         1.0000,  1.0000, -1.0000, -0.9592, -0.9184, -0.8776, -0.8367, -0.7959,\n",
       "        -0.7551, -0.7143, -0.6735, -0.6327, -0.5918, -0.5510, -0.5102, -0.4694,\n",
       "        -0.4286, -0.3878, -0.3469, -0.3061, -0.2653, -0.2245, -0.1837, -0.1429,\n",
       "        -0.1020, -0.0612, -0.0204,  0.0204,  0.0612,  0.1020,  0.1429,  0.1837,\n",
       "         0.2245,  0.2653,  0.3061,  0.3469,  0.3878,  0.4286,  0.4694,  0.5102,\n",
       "         0.5510,  0.5918,  0.6327,  0.6735,  0.7143,  0.7551,  0.7959,  0.8367,\n",
       "         0.8776,  0.9184,  0.9592,  1.0000], requires_grad=True)"
      ]
     },
     "execution_count": 94,
     "metadata": {},
     "output_type": "execute_result"
    }
   ],
   "source": [
    "x_c"
   ]
  },
  {
   "cell_type": "code",
   "execution_count": 97,
   "id": "f9f05109-da3a-4f9c-8272-7e8256fcb5e4",
   "metadata": {},
   "outputs": [
    {
     "data": {
      "text/plain": [
       "tensor([0.0000, 0.0101, 0.0202,  ..., 0.9798, 0.9899, 1.0000],\n",
       "       requires_grad=True)"
      ]
     },
     "execution_count": 97,
     "metadata": {},
     "output_type": "execute_result"
    }
   ],
   "source": [
    "t"
   ]
  },
  {
   "cell_type": "code",
   "execution_count": 5,
   "id": "a09830ac-eb9f-46e5-bed5-298ce9fdaef7",
   "metadata": {},
   "outputs": [],
   "source": [
    "import torch.nn as nn\n",
    "import torch.optim as optim\n",
    "from collections import OrderedDict\n",
    "\n",
    "class NeuralNet(nn.Module):\n",
    "    def __init__(self, in_size, out_size):\n",
    "        super(NeuralNet, self).__init__()\n",
    "        self.in_size = in_size\n",
    "        self.out_size = out_size\n",
    "        self.model = nn.Sequential(OrderedDict([\n",
    "                                  ('linear1', nn.Linear(in_size, 50)),\n",
    "                                  ('tanh1', nn.Tanh()),\n",
    "                                  ('linear2', nn.Linear(50, 100)),\n",
    "                                  ('tanh2', nn.Tanh()),\n",
    "                                  ('linear3', nn.Linear(100, 200)),\n",
    "                                  ('tanh3', nn.Tanh()),\n",
    "                                  ('linear4', nn.Linear(200, out_size)),\n",
    "                                  ('tanh4', nn.Tanh()),            \n",
    "                                ]))\n",
    "    def forward(self, t, x):\n",
    "        inp = torch.stack([t, x], dim=1)\n",
    "        return self.model(inp)"
   ]
  },
  {
   "cell_type": "code",
   "execution_count": 156,
   "id": "8d6c10c8-be77-4715-9b06-dec2957f2390",
   "metadata": {},
   "outputs": [],
   "source": [
    "model = NeuralNet(2, 1)\n",
    "optimizer = optim.SGD(model.parameters(), lr=0.1)"
   ]
  },
  {
   "cell_type": "code",
   "execution_count": 157,
   "id": "05c5b1b9-bd44-48de-b938-b1d0c8fa307a",
   "metadata": {},
   "outputs": [
    {
     "ename": "KeyboardInterrupt",
     "evalue": "",
     "output_type": "error",
     "traceback": [
      "\u001b[0;31m---------------------------------------------------------------------------\u001b[0m",
      "\u001b[0;31mKeyboardInterrupt\u001b[0m                         Traceback (most recent call last)",
      "Input \u001b[0;32mIn [157]\u001b[0m, in \u001b[0;36m<cell line: 11>\u001b[0;34m()\u001b[0m\n\u001b[1;32m     15\u001b[0m dx  \u001b[38;5;241m=\u001b[39m torch\u001b[38;5;241m.\u001b[39mautograd\u001b[38;5;241m.\u001b[39mgrad(u, x, torch\u001b[38;5;241m.\u001b[39mones_like(u), create_graph\u001b[38;5;241m=\u001b[39m\u001b[38;5;28;01mTrue\u001b[39;00m)[\u001b[38;5;241m0\u001b[39m] \u001b[38;5;66;03m# computes du/dx\u001b[39;00m\n\u001b[1;32m     16\u001b[0m dx2 \u001b[38;5;241m=\u001b[39m torch\u001b[38;5;241m.\u001b[39mautograd\u001b[38;5;241m.\u001b[39mgrad(dx, x, torch\u001b[38;5;241m.\u001b[39mones_like(dx),  create_graph\u001b[38;5;241m=\u001b[39m\u001b[38;5;28;01mTrue\u001b[39;00m)[\u001b[38;5;241m0\u001b[39m] \u001b[38;5;66;03m# computes d^2u/dx^2\u001b[39;00m\n\u001b[0;32m---> 17\u001b[0m loss_p \u001b[38;5;241m=\u001b[39m torch\u001b[38;5;241m.\u001b[39mmean(\u001b[43m(\u001b[49m\u001b[43mdt\u001b[49m\u001b[43m \u001b[49m\u001b[38;5;241;43m+\u001b[39;49m\u001b[43m \u001b[49m\u001b[43mu\u001b[49m\u001b[38;5;241;43m*\u001b[39;49m\u001b[43mdx\u001b[49m\u001b[43m \u001b[49m\u001b[38;5;241;43m-\u001b[39;49m\u001b[43m \u001b[49m\u001b[43mviscosity\u001b[49m\u001b[38;5;241;43m*\u001b[39;49m\u001b[43mdx2\u001b[49m\u001b[43m)\u001b[49m\u001b[38;5;241;43m*\u001b[39;49m\u001b[38;5;241;43m*\u001b[39;49m\u001b[38;5;241;43m2\u001b[39;49m)\n\u001b[1;32m     19\u001b[0m \u001b[38;5;66;03m# conditions loss\u001b[39;00m\n\u001b[1;32m     20\u001b[0m u \u001b[38;5;241m=\u001b[39m model(t_c, x_c)\n",
      "File \u001b[0;32m~/.local/lib/python3.8/site-packages/torch/_tensor.py:30\u001b[0m, in \u001b[0;36m_wrap_type_error_to_not_implemented.<locals>.wrapped\u001b[0;34m(*args, **kwargs)\u001b[0m\n\u001b[1;32m     28\u001b[0m     \u001b[38;5;28;01mreturn\u001b[39;00m handle_torch_function(wrapped, args, \u001b[38;5;241m*\u001b[39margs, \u001b[38;5;241m*\u001b[39m\u001b[38;5;241m*\u001b[39mkwargs)\n\u001b[1;32m     29\u001b[0m \u001b[38;5;28;01mtry\u001b[39;00m:\n\u001b[0;32m---> 30\u001b[0m     \u001b[38;5;28;01mreturn\u001b[39;00m \u001b[43mf\u001b[49m\u001b[43m(\u001b[49m\u001b[38;5;241;43m*\u001b[39;49m\u001b[43margs\u001b[49m\u001b[43m,\u001b[49m\u001b[43m \u001b[49m\u001b[38;5;241;43m*\u001b[39;49m\u001b[38;5;241;43m*\u001b[39;49m\u001b[43mkwargs\u001b[49m\u001b[43m)\u001b[49m\n\u001b[1;32m     31\u001b[0m \u001b[38;5;28;01mexcept\u001b[39;00m \u001b[38;5;167;01mTypeError\u001b[39;00m:\n\u001b[1;32m     32\u001b[0m     \u001b[38;5;28;01mreturn\u001b[39;00m \u001b[38;5;28mNotImplemented\u001b[39m\n",
      "\u001b[0;31mKeyboardInterrupt\u001b[0m: "
     ]
    }
   ],
   "source": [
    "viscosity = 0.01/np.pi\n",
    "\n",
    "epochs=15\n",
    "\n",
    "model.train(True)\n",
    "losses = []\n",
    "t.requires_grad_(True)\n",
    "x.requires_grad_(True)\n",
    "t_c.requires_grad_(True)\n",
    "x_c.requires_grad_(True)\n",
    "for i in range(epochs):\n",
    "    # physics based loss\n",
    "    u = model(t, x)\n",
    "    dt  = torch.autograd.grad(u, t, torch.ones_like(u), create_graph=True)[0] # computes du/dt\n",
    "    dx  = torch.autograd.grad(u, x, torch.ones_like(u), create_graph=True)[0] # computes du/dx\n",
    "    dx2 = torch.autograd.grad(dx, x, torch.ones_like(dx),  create_graph=True)[0] # computes d^2u/dx^2\n",
    "    loss_p = torch.mean((dt + u*dx - viscosity*dx2)**2)\n",
    "    \n",
    "    # conditions loss\n",
    "    u = model(t_c, x_c)\n",
    "    loss_c = torch.mean((u_c - u)**2) # MSE\n",
    "    \n",
    "    loss = loss_p + loss_c\n",
    "    loss.backward()\n",
    "    optimizer.step()\n",
    "    optimizer.zero_grad()\n",
    "    \n",
    "    print(\"Loss:\", loss.item())\n",
    "    losses.append(loss.item())"
   ]
  },
  {
   "cell_type": "code",
   "execution_count": 141,
   "id": "66039a4a-e2b6-4e81-b225-67244db3c51d",
   "metadata": {},
   "outputs": [
    {
     "data": {
      "text/plain": [
       "[<matplotlib.lines.Line2D at 0x7f7d3129c3d0>]"
      ]
     },
     "execution_count": 141,
     "metadata": {},
     "output_type": "execute_result"
    },
    {
     "data": {
      "image/png": "[encoded data removed]",
      "text/plain": [
       "<Figure size 432x288 with 1 Axes>"
      ]
     },
     "metadata": {
      "needs_background": "light"
     },
     "output_type": "display_data"
    }
   ],
   "source": [
    "import matplotlib.pyplot as plt\n",
    "time = 0\n",
    "u_0_pred = model(torch.tensor(np.full((initial_points), time), dtype=torch.float), torch.tensor(x_0, dtype=torch.float))\n",
    "plt.plot(x_0, u_0_pred.detach().numpy())"
   ]
  },
  {
   "cell_type": "code",
   "execution_count": 38,
   "id": "54861dea-a9c3-4dd5-aca7-50c21c2258ca",
   "metadata": {},
   "outputs": [
    {
     "data": {
      "text/plain": [
       "tensor(12450., grad_fn=<AddBackward0>)"
      ]
     },
     "execution_count": 38,
     "metadata": {},
     "output_type": "execute_result"
    }
   ],
   "source": [
    "loss"
   ]
  },
  {
   "cell_type": "code",
   "execution_count": 145,
   "id": "078a0314-010a-446d-b38f-b454db8ddb8b",
   "metadata": {},
   "outputs": [
    {
     "data": {
      "text/plain": [
       "tensor(0.0002, grad_fn=<MeanBackward0>)"
      ]
     },
     "execution_count": 145,
     "metadata": {},
     "output_type": "execute_result"
    }
   ],
   "source": [
    "torch.mean((dt + u*dx - viscosity*dx2)**2)"
   ]
  },
  {
   "cell_type": "code",
   "execution_count": null,
   "id": "040df77f-176b-4b6e-ac3a-28a7982589b3",
   "metadata": {},
   "outputs": [],
   "source": [
    "x.grad"
   ]
  },
  {
   "cell_type": "code",
   "execution_count": 158,
   "id": "a14298a2-9915-4867-ac18-e5284dba1b97",
   "metadata": {},
   "outputs": [
    {
     "data": {
      "text/plain": [
       "Parameter containing:\n",
       "tensor([ 0.6277, -0.0271, -0.0325, -0.0997, -0.3802,  0.6260,  0.4715, -0.0189,\n",
       "         0.0874,  0.1874, -0.4957,  0.6627, -0.3553, -0.0797,  0.0867, -0.5976,\n",
       "        -0.1181, -0.5145,  0.5604, -0.4938,  0.5963, -0.6844,  0.2418, -0.6878,\n",
       "         0.6167, -0.0112, -0.3064, -0.2450, -0.0576, -0.0939, -0.5764,  0.1771,\n",
       "         0.2149,  0.0918,  0.5874, -0.0998,  0.0554, -0.7012,  0.0877,  0.1090,\n",
       "        -0.6394,  0.5176,  0.2665,  0.2447, -0.3262, -0.6726,  0.0898,  0.2205,\n",
       "        -0.6032, -0.6764], requires_grad=True)"
      ]
     },
     "execution_count": 158,
     "metadata": {},
     "output_type": "execute_result"
    }
   ],
   "source": [
    "model.model.linear1.bias"
   ]
  },
  {
   "cell_type": "code",
   "execution_count": null,
   "id": "72559105-49ce-4359-b931-b9bede5113dd",
   "metadata": {},
   "outputs": [],
   "source": []
  }
 ],
 "metadata": {
  "kernelspec": {
   "display_name": "Python 3 (ipykernel)",
   "language": "python",
   "name": "python3"
  },
  "language_info": {
   "codemirror_mode": {
    "name": "ipython",
    "version": 3
   },
   "file_extension": ".py",
   "mimetype": "text/x-python",
   "name": "python",
   "nbconvert_exporter": "python",
   "pygments_lexer": "ipython3",
   "version": "3.8.10"
  }
 },
 "nbformat": 4,
 "nbformat_minor": 5
}
