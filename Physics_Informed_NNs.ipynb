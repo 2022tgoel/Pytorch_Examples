{
 "cells": [
  {
   "cell_type": "markdown",
   "id": "7f6644e0-1a19-4777-b923-cdace2943fd5",
   "metadata": {},
   "source": [
    "# PINN for Burger's Equation\n",
    "Resources:\n",
    "https://github.com/benmoseley/harmonic-oscillator-pinn/blob/main/Harmonic%20oscillator%20PINN.ipynb\n",
    "https://www.mathworks.com/help/deeplearning/ug/solve-partial-differential-equations-using-deep-learning.html\n",
    "https://colab.research.google.com/github/janblechschmidt/PDEsByNNs/blob/main/PINN_Solver.ipynb#scrollTo=pQhmdtsqZEkj"
   ]
  },
  {
   "cell_type": "code",
   "execution_count": null,
   "id": "adb8671e-758b-42e0-b4ea-7e66fa566754",
   "metadata": {},
   "outputs": [],
   "source": [
    "import numpy as np\n",
    "import torch\n",
    "\n",
    "boundary_points = 25 # actually 2*boundary_points, so 50\n",
    "# boundary conditions\n",
    "x_b = np.ones(2*boundary_points)\n",
    "x_b[:boundary_points] = -1*x_b[:boundary_points]\n",
    "t_b = np.linspace(0, 1, boundary_points)\n",
    "t_b = np.concatenate((t_b, t_b))\n",
    "u_b = np.zeros(2*boundary_points)\n",
    "\n",
    "# inital conditions (t=0) \n",
    "initial_points = 50 # initial conditions\n",
    "t_0 = np.zeros(initial_points)\n",
    "x_0 = np.linspace(-1, 1, initial_points)\n",
    "u_0 = -np.sin(x_0*np.pi)\n",
    "\n",
    "# combine\n",
    "t_c = np.concatenate(t_b, t_0)\n",
    "x_c = np.concatenate(x_b, x_0)\n",
    "inp_c = np.vstack([t_c, x_c])\n",
    "u_c = np.concatenate(u_b, u_0)\n",
    "\n",
    "# collocation points\n",
    "num_points = 10000\n",
    "t = np.zeros(0, 1, num_points)\n",
    "x = np.linspace(-1, 1, num_points)\n",
    "collocation = np.vstack([t_0, x_0])\n",
    "\n",
    "# convert to tensor\n",
    "inp_c = torch.from_numpy(inp_c)\n",
    "u_c = torch.from_numpy(u_c)\n",
    "collocation = torch.from_numpy(collocation)"
   ]
  },
  {
   "cell_type": "code",
   "execution_count": null,
   "id": "a09830ac-eb9f-46e5-bed5-298ce9fdaef7",
   "metadata": {},
   "outputs": [],
   "source": [
    "import torch.nn as nn\n",
    "import torch.optim as optim\n",
    "\n",
    "def NeuralNet(nn.Module):\n",
    "    def __init__(self, in_size, out_size):\n",
    "        self.in_size = in_size\n",
    "        self.out_size = out_size\n",
    "        self.model = nn.Sequential(OrderedDict([\n",
    "                                  ('linear1', nn.Linear(in_size, 50)),\n",
    "                                  ('tanh1', nn.Tanh()),\n",
    "                                  ('linear2', nn.Linear(50, 200)),\n",
    "                                  ('tanh2', nn.Tanh()),\n",
    "                                  ('linear3', nn.Linear(200, 500)),\n",
    "                                  ('tanh3', nn.Tanh()),\n",
    "                                  ('linear4', nn.Linear(500, out_size)),\n",
    "                                  ('tanh4', nn.Tanh()),            \n",
    "                                ]))\n",
    "    def forward(self, x):\n",
    "        return self.model(x)"
   ]
  },
  {
   "cell_type": "code",
   "execution_count": null,
   "id": "8d6c10c8-be77-4715-9b06-dec2957f2390",
   "metadata": {},
   "outputs": [],
   "source": [
    "model = NeuralNet(2, 1)\n",
    "optimizer = optim.SGD(model.parameters(), lr=0.1)"
   ]
  },
  {
   "cell_type": "code",
   "execution_count": null,
   "id": "05c5b1b9-bd44-48de-b938-b1d0c8fa307a",
   "metadata": {},
   "outputs": [],
   "source": [
    "import matplotlib.pyplot as plt\n",
    "\n",
    "viscosity = 0.01/np.pi\n",
    "\n",
    "epochs=200\n",
    "\n",
    "losses = []\n",
    "for i in range(epochs):\n",
    "    # conditions loss\n",
    "    u = model(inp_c)\n",
    "    loss = torch.mean((u_c - u)**2) # MSE\n",
    "    \n",
    "    # physics based loss\n",
    "    u = model(collocation)\n",
    "    dt  = torch.autograd.grad(t, collocation, torch.ones_like(u), create_graph=True)[0] # computes du/dt\n",
    "    dx  = torch.autograd.grad(x, collocation, torch.ones_like(u), create_graph=True)[0] # computes du/dx\n",
    "    dx2 = torch.autograd.grad(dx,  collocation, torch.ones_like(dx),  create_graph=True)[0] # computes d^2u/dx^2\n",
    "    loss += dt + u*dx - viscosity*dx2\n",
    "\n",
    "    loss.backward()\n",
    "    optimizer.step()\n",
    "    optimizer.zero_grad()\n",
    "\n",
    "    losses.append(loss)\n",
    "\n",
    "plt.plot(range(epochs), losses)"
   ]
  }
 ],
 "metadata": {
  "kernelspec": {
   "display_name": "Python 3 (ipykernel)",
   "language": "python",
   "name": "python3"
  },
  "language_info": {
   "codemirror_mode": {
    "name": "ipython",
    "version": 3
   },
   "file_extension": ".py",
   "mimetype": "text/x-python",
   "name": "python",
   "nbconvert_exporter": "python",
   "pygments_lexer": "ipython3",
   "version": "3.8.10"
  }
 },
 "nbformat": 4,
 "nbformat_minor": 5
}
