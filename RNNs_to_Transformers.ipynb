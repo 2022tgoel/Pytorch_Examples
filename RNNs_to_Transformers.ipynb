{
 "cells": [
  {
   "cell_type": "markdown",
   "id": "e743d96b-981d-4a8a-9ae1-0e1758c1333f",
   "metadata": {},
   "source": [
    "# RNNs to Transformers\n",
    "This notebook shows how to create models that translate from french to english\n",
    "\n",
    "I will slowly build up the complexity of the model:\n",
    "1. Starting with a seq2seq architecture without attention,\n",
    "2. Adding in attention,\n",
    "3. Then using a transformer"
   ]
  },
  {
   "cell_type": "code",
   "execution_count": 83,
   "id": "8a666a61-e9de-440e-91c0-7b2fa7fecb87",
   "metadata": {},
   "outputs": [],
   "source": [
    "from io import open\n",
    "import unicodedata\n",
    "import string\n",
    "import re\n",
    "import random\n",
    "\n",
    "import torch\n",
    "import torch.nn as nn\n",
    "from torch import optim\n",
    "import torch.nn.functional as F\n",
    "from torch.utils.data import Dataset, DataLoader\n",
    "from torch.nn.utils.rnn import pad_sequence, pack_padded_sequence, pad_packed_sequence\n",
    "from tqdm import tqdm\n",
    "import matplotlib.pyplot as plt\n",
    "\n",
    "device = torch.device(\"cuda\" if torch.cuda.is_available() else \"cpu\")"
   ]
  },
  {
   "cell_type": "markdown",
   "id": "1518938d-7ad0-4014-99f0-a3e15805fcce",
   "metadata": {},
   "source": [
    "## Data Preparation\n",
    "Using the dataset/data prep code in this tutorial: https://pytorch.org/tutorials/intermediate/seq2seq_translation_tutorial.html"
   ]
  },
  {
   "cell_type": "code",
   "execution_count": 3,
   "id": "7c935181-74b7-44c4-a3cb-77e3de097da3",
   "metadata": {},
   "outputs": [
    {
     "name": "stdout",
     "output_type": "stream",
     "text": [
      "  % Total    % Received % Xferd  Average Speed   Time    Time     Time  Current\n",
      "                                 Dload  Upload   Total   Spent    Left  Speed\n",
      "100 2814k  100 2814k    0     0  27.2M      0 --:--:-- --:--:-- --:--:-- 27.2M\n"
     ]
    }
   ],
   "source": [
    "!curl https://download.pytorch.org/tutorial/data.zip --output data.zip"
   ]
  },
  {
   "cell_type": "code",
   "execution_count": 5,
   "id": "dd8427ec-740c-4ade-9fcd-9753a004fc8e",
   "metadata": {},
   "outputs": [
    {
     "name": "stdout",
     "output_type": "stream",
     "text": [
      "Archive:  data.zip\n",
      "  inflating: ./data/eng-fra.txt      \n",
      "   creating: ./data/names/\n",
      "  inflating: ./data/names/Arabic.txt  \n",
      "  inflating: ./data/names/Chinese.txt  \n",
      "  inflating: ./data/names/Czech.txt  \n",
      "  inflating: ./data/names/Dutch.txt  \n",
      "  inflating: ./data/names/English.txt  \n",
      "  inflating: ./data/names/French.txt  \n",
      "  inflating: ./data/names/German.txt  \n",
      "  inflating: ./data/names/Greek.txt  \n",
      "  inflating: ./data/names/Irish.txt  \n",
      "  inflating: ./data/names/Italian.txt  \n",
      "  inflating: ./data/names/Japanese.txt  \n",
      "  inflating: ./data/names/Korean.txt  \n",
      "  inflating: ./data/names/Polish.txt  \n",
      "  inflating: ./data/names/Portuguese.txt  \n",
      "  inflating: ./data/names/Russian.txt  \n",
      "  inflating: ./data/names/Scottish.txt  \n",
      "  inflating: ./data/names/Spanish.txt  \n",
      "  inflating: ./data/names/Vietnamese.txt  \n"
     ]
    }
   ],
   "source": [
    "!unzip data.zip -d ./"
   ]
  },
  {
   "cell_type": "code",
   "execution_count": 2,
   "id": "31748a5a-275f-462e-a4cf-10d2d1915f29",
   "metadata": {},
   "outputs": [
    {
     "name": "stdout",
     "output_type": "stream",
     "text": [
      "Reading lines...\n",
      "Read 135842 sentence pairs\n",
      "Trimmed to 10599 sentence pairs\n",
      "Counting words...\n",
      "Counted words:\n",
      "fra 4345\n",
      "eng 2803\n",
      "['je suis en train de dormir .', 'i m sleeping .']\n"
     ]
    }
   ],
   "source": [
    "class Lang:\n",
    "    def __init__(self, name):\n",
    "        self.name = name\n",
    "        self.word2index = {\"SOS\" : 1, \"EOS\" : 2}\n",
    "        self.word2count = {}\n",
    "        self.index2word = {1: \"SOS\", 2: \"EOS\"}\n",
    "        self.n_words = 2  # Count SOS and EOS\n",
    "\n",
    "    def addSentence(self, sentence):\n",
    "        for word in sentence.split(' '):\n",
    "            self.addWord(word)\n",
    "\n",
    "    def addWord(self, word):\n",
    "        if word not in self.word2index:\n",
    "            idx = self.n_words+1\n",
    "            self.word2index[word] = idx\n",
    "            self.word2count[word] = 1\n",
    "            self.index2word[idx] = word\n",
    "            self.n_words += 1\n",
    "        else:\n",
    "            self.word2count[word] += 1\n",
    "\n",
    "# Turn a Unicode string to plain ASCII, thanks to\n",
    "# https://stackoverflow.com/a/518232/2809427\n",
    "def unicodeToAscii(s):\n",
    "    return ''.join(\n",
    "        c for c in unicodedata.normalize('NFD', s)\n",
    "        if unicodedata.category(c) != 'Mn'\n",
    "    )\n",
    "\n",
    "def normalizeString(s):\n",
    "    s = unicodeToAscii(s.lower().strip())\n",
    "    s = re.sub(r\"([.!?])\", r\" \\1\", s) # adds a space before puncutation, because there has to be a space between each token.  \n",
    "    s = re.sub(r\"[^a-zA-Z.!?]+\", r\" \", s) # replaces punctuation (e.g. apostrophes) with a space\n",
    "    return s\n",
    "\n",
    "def readLangs(lang1, lang2, reverse=False):\n",
    "    print(\"Reading lines...\")\n",
    "\n",
    "    # Read the file and split into lines\n",
    "    lines = open('data/%s-%s.txt' % (lang1, lang2), encoding='utf-8').read().strip().split('\\n')\n",
    "\n",
    "    # Split every line into pairs and normalize\n",
    "    pairs = [[normalizeString(s) for s in l.split('\\t')] for l in lines]\n",
    "\n",
    "    # Reverse pairs, make Lang instances\n",
    "    if reverse:\n",
    "        pairs = [list(reversed(p)) for p in pairs]\n",
    "        input_lang = Lang(lang2)\n",
    "        output_lang = Lang(lang1)\n",
    "    else:\n",
    "        input_lang = Lang(lang1)\n",
    "        output_lang = Lang(lang2)\n",
    "\n",
    "    return input_lang, output_lang, pairs\n",
    "\n",
    "MAX_LENGTH = 10\n",
    "\n",
    "eng_prefixes = (\n",
    "    \"i am \", \"i m \",\n",
    "    \"he is\", \"he s \",\n",
    "    \"she is\", \"she s \",\n",
    "    \"you are\", \"you re \",\n",
    "    \"we are\", \"we re \",\n",
    "    \"they are\", \"they re \"\n",
    ")\n",
    "\n",
    "\n",
    "def filterPair(p):\n",
    "    return len(p[0].split(' ')) < MAX_LENGTH and \\\n",
    "        len(p[1].split(' ')) < MAX_LENGTH and \\\n",
    "        p[1].startswith(eng_prefixes)\n",
    "\n",
    "\n",
    "def filterPairs(pairs):\n",
    "    return [pair for pair in pairs if filterPair(pair)]\n",
    "\n",
    "def prepareData(lang1, lang2, reverse=False):\n",
    "    input_lang, output_lang, pairs = readLangs(lang1, lang2, reverse)\n",
    "    print(\"Read %s sentence pairs\" % len(pairs))\n",
    "    pairs = filterPairs(pairs)\n",
    "    print(\"Trimmed to %s sentence pairs\" % len(pairs))\n",
    "    print(\"Counting words...\")\n",
    "    for pair in pairs:\n",
    "        input_lang.addSentence(pair[0])\n",
    "        output_lang.addSentence(pair[1])\n",
    "    print(\"Counted words:\")\n",
    "    print(input_lang.name, input_lang.n_words)\n",
    "    print(output_lang.name, output_lang.n_words)\n",
    "    return input_lang, output_lang, pairs\n",
    "\n",
    "\n",
    "french_lang, english_lang, pairs = prepareData('eng', 'fra', True)\n",
    "print(random.choice(pairs))"
   ]
  },
  {
   "cell_type": "code",
   "execution_count": 3,
   "id": "c50def46-6342-4cd6-97de-bf88e7803602",
   "metadata": {},
   "outputs": [],
   "source": [
    "def convert_to_tensor(lang, sentence):\n",
    "    sentence = [lang.word2index[word] for word in sentence.split(' ')]\n",
    "    sentence.append(lang.word2index[\"EOS\"])\n",
    "    return torch.tensor(sentence, dtype=torch.long)\n",
    "\n",
    "\n",
    "class SentenceDataset(Dataset):\n",
    "    def __init__(self, lang1, lang2, pairs):\n",
    "        self.lang1 = lang1\n",
    "        self.lang2 = lang2\n",
    "        self.pairs = []\n",
    "        for i in range(len(pairs)):\n",
    "            s1, s2 = pairs[i]\n",
    "            self.pairs.append([convert_to_tensor(lang1, s1), convert_to_tensor(lang2,s2)])\n",
    "    def __getitem__(self, idx):\n",
    "        return self.pairs[idx][0], self.pairs[idx][1]\n",
    "    def __len__(self):\n",
    "        return len(self.pairs)\n",
    "\n",
    "def pad_collate(batch):\n",
    "    x, y = zip(*batch)\n",
    "    x_lens = torch.tensor([len(i) for i in x])\n",
    "    y_lens = torch.tensor([len(i) for i in y])\n",
    "    x_pad = pad_sequence(x, padding_value=0)\n",
    "    y_pad = pad_sequence(y, padding_value=0)\n",
    "    \n",
    "    # sort \n",
    "    x_lens, idx = x_lens.sort(0, descending=True)\n",
    "    y_lens = y_lens[idx]\n",
    "    x_pad = x_pad[:, idx]\n",
    "    y_pad = y_pad[:, idx]\n",
    "    \n",
    "    return x_pad, y_pad, x_lens, y_lens\n",
    "\n",
    "dataset = SentenceDataset(french_lang, english_lang, pairs)\n",
    "data_loader = DataLoader(dataset, batch_size=32, shuffle=False, collate_fn=pad_collate)"
   ]
  },
  {
   "cell_type": "code",
   "execution_count": 4,
   "id": "ebc52295-f136-456e-ba87-132cb3e63d41",
   "metadata": {},
   "outputs": [
    {
     "data": {
      "text/plain": [
       "['ca va .', 'i m ok .']"
      ]
     },
     "execution_count": 4,
     "metadata": {},
     "output_type": "execute_result"
    }
   ],
   "source": [
    "pairs[2]"
   ]
  },
  {
   "cell_type": "code",
   "execution_count": 5,
   "id": "564c3fd2-5af5-48fe-b11c-60c56d9996ce",
   "metadata": {},
   "outputs": [
    {
     "data": {
      "text/plain": [
       "(tensor([ 7, 12, 22,  6,  2]), tensor([ 3,  4, 13,  5,  2]))"
      ]
     },
     "execution_count": 5,
     "metadata": {},
     "output_type": "execute_result"
    }
   ],
   "source": [
    "dataset[10]"
   ]
  },
  {
   "cell_type": "code",
   "execution_count": 6,
   "id": "641bc5d1-7ae9-4e6c-95ba-de9e4f83f3b0",
   "metadata": {},
   "outputs": [
    {
     "data": {
      "text/plain": [
       "(tensor([[ 7,  3,  7,  7,  7,  7,  7,  7,  7,  7, 36,  3,  7,  7,  7,  7,  7,  7,\n",
       "          25,  7,  7,  7,  7,  7,  7,  7,  7,  7,  3, 28, 10, 10],\n",
       "         [12, 15,  8, 12, 12, 12, 12, 12, 12,  8, 11,  4, 12, 12, 12, 12, 12, 12,\n",
       "          26, 12, 12, 12, 12, 12, 12, 12, 12, 12,  4, 29, 11, 11],\n",
       "         [15,  4,  9, 41, 40, 39, 38, 37, 37,  9,  9, 34, 33, 32, 31, 30, 27, 13,\n",
       "          23, 24, 23, 22, 21, 20, 19, 17, 14, 13,  5,  6,  6,  6],\n",
       "         [16, 35,  6,  6, 18, 18,  6,  6, 18,  6,  6,  6,  6,  6,  6,  6,  6,  6,\n",
       "           6,  6,  6,  6,  6,  6, 18, 18,  6,  6,  6,  2,  2,  2],\n",
       "         [ 6,  6,  2,  2,  2,  2,  2,  2,  2,  2,  2,  2,  2,  2,  2,  2,  2,  2,\n",
       "           2,  2,  2,  2,  2,  2,  2,  2,  2,  2,  2,  0,  0,  0],\n",
       "         [ 2,  2,  0,  0,  0,  0,  0,  0,  0,  0,  0,  0,  0,  0,  0,  0,  0,  0,\n",
       "           0,  0,  0,  0,  0,  0,  0,  0,  0,  0,  0,  0,  0,  0]]),\n",
       " tensor([[ 3,  3,  3,  3,  3,  3,  3,  3,  3,  3,  3,  3,  3,  3,  3,  3,  3,  3,\n",
       "          15,  3,  3,  3,  3,  3,  3,  3,  3,  3,  3,  3,  3,  3],\n",
       "         [ 4,  4,  4,  4,  4,  4,  4,  4,  4,  4,  4,  4,  4,  4,  4,  4,  4, 17,\n",
       "          16,  4,  4,  4,  4,  4,  4,  4,  4,  4,  4,  4,  4,  4],\n",
       "         [ 8, 23,  6, 27, 26, 26, 25, 25, 25, 24, 24, 22, 21, 20, 20, 19, 18,  7,\n",
       "          14, 14, 14, 13, 12, 11,  9,  9,  7,  7,  5, 18, 24,  6],\n",
       "         [ 5,  5,  5,  5,  5,  5,  5,  5, 10,  5,  5,  5,  5,  5,  5,  5,  5,  5,\n",
       "           5,  5,  5,  5,  5,  5, 10, 10,  5,  5,  2,  5,  5,  5],\n",
       "         [ 2,  2,  2,  2,  2,  2,  2,  2,  2,  2,  2,  2,  2,  2,  2,  2,  2,  2,\n",
       "           2,  2,  2,  2,  2,  2,  2,  2,  2,  2,  0,  2,  2,  2]]),\n",
       " tensor([6, 6, 5, 5, 5, 5, 5, 5, 5, 5, 5, 5, 5, 5, 5, 5, 5, 5, 5, 5, 5, 5, 5, 5,\n",
       "         5, 5, 5, 5, 5, 4, 4, 4]),\n",
       " tensor([5, 5, 5, 5, 5, 5, 5, 5, 5, 5, 5, 5, 5, 5, 5, 5, 5, 5, 5, 5, 5, 5, 5, 5,\n",
       "         5, 5, 5, 5, 4, 5, 5, 5]))"
      ]
     },
     "execution_count": 6,
     "metadata": {},
     "output_type": "execute_result"
    }
   ],
   "source": [
    "next(iter(data_loader)) # sentence length x batch_size"
   ]
  },
  {
   "cell_type": "markdown",
   "id": "f1057038-3c57-4c24-9be6-ab8c8bc7d518",
   "metadata": {},
   "source": [
    "## 1. Basic RNN Model"
   ]
  },
  {
   "cell_type": "code",
   "execution_count": 7,
   "id": "0e27bd58-2d13-4f6f-9962-70f8bdc902fd",
   "metadata": {},
   "outputs": [],
   "source": [
    "# packing sequences: https://gist.github.com/HarshTrivedi/f4e7293e941b17d19058f6fb90ab0fec\n",
    "\n",
    "class EncoderRNN(nn.Module):\n",
    "    def __init__(self, dict_size, hidden_size):\n",
    "        super(EncoderRNN, self).__init__()\n",
    "        self.hidden_size = hidden_size\n",
    "        self.embedding = nn.Embedding(dict_size, hidden_size)\n",
    "        self.gru = nn.GRU(hidden_size, hidden_size)\n",
    "    def forward(self, x, lens):\n",
    "        input = self.embedding(x)\n",
    "        input = pack_padded_sequence(input, lens)\n",
    "        output, hidden = self.gru(input, torch.zeros(1, x.shape[1], self.hidden_size))\n",
    "        return output, hidden \n",
    "    \n",
    "class DecoderRNN(nn.Module):\n",
    "    def __init__(self, dict_size, hidden_size):\n",
    "        super(DecoderRNN, self).__init__()\n",
    "        self.hidden_size = hidden_size\n",
    "        self.embedding = nn.Embedding(dict_size, hidden_size)\n",
    "        self.gru = nn.GRU(hidden_size, hidden_size)\n",
    "        self.out = nn.Linear(hidden_size, dict_size)\n",
    "        self.softmax = nn.LogSoftmax(dim=1)\n",
    "\n",
    "    def forward(self, x, hidden, encoder_outputs):\n",
    "        input = self.embedding(x)\n",
    "        input = F.relu(input)\n",
    "        output, hidden = self.gru(input, hidden)\n",
    "        output = self.softmax(self.out(output[0]))\n",
    "        return output, hidden"
   ]
  },
  {
   "cell_type": "code",
   "execution_count": 8,
   "id": "ecc202ac-f97c-422c-9f65-aa4b07012e1b",
   "metadata": {},
   "outputs": [],
   "source": [
    "hidden_size = 256\n",
    "learning_rate = 0.05\n",
    "encoder = EncoderRNN(french_lang.n_words+1, hidden_size)\n",
    "decoder = DecoderRNN(english_lang.n_words+1, hidden_size) #+1 required for padding token (token 0)\n",
    "encoder_optimizer = optim.SGD(encoder.parameters(), lr=learning_rate)\n",
    "decoder_optimizer = optim.SGD(decoder.parameters(), lr=learning_rate)\n",
    "criterion = nn.NLLLoss(ignore_index=0) # should not calculate loss if the ith word is a padding token (0)"
   ]
  },
  {
   "cell_type": "code",
   "execution_count": 11,
   "id": "b074ecee-9cd6-41bf-a20d-4d67d25b8dc4",
   "metadata": {},
   "outputs": [
    {
     "name": "stderr",
     "output_type": "stream",
     "text": [
      "100%|██████████| 332/332 [00:07<00:00, 43.26it/s]\n"
     ]
    },
    {
     "name": "stdout",
     "output_type": "stream",
     "text": [
      "Loss: 1.036394715309143\n"
     ]
    },
    {
     "name": "stderr",
     "output_type": "stream",
     "text": [
      "100%|██████████| 332/332 [00:07<00:00, 43.38it/s]\n"
     ]
    },
    {
     "name": "stdout",
     "output_type": "stream",
     "text": [
      "Loss: 0.9837220907211304\n"
     ]
    },
    {
     "name": "stderr",
     "output_type": "stream",
     "text": [
      "100%|██████████| 332/332 [00:07<00:00, 43.39it/s]\n"
     ]
    },
    {
     "name": "stdout",
     "output_type": "stream",
     "text": [
      "Loss: 0.9020172357559204\n"
     ]
    },
    {
     "name": "stderr",
     "output_type": "stream",
     "text": [
      "100%|██████████| 332/332 [00:07<00:00, 43.40it/s]\n"
     ]
    },
    {
     "name": "stdout",
     "output_type": "stream",
     "text": [
      "Loss: 0.8330768346786499\n"
     ]
    },
    {
     "name": "stderr",
     "output_type": "stream",
     "text": [
      "100%|██████████| 332/332 [00:07<00:00, 43.38it/s]\n"
     ]
    },
    {
     "name": "stdout",
     "output_type": "stream",
     "text": [
      "Loss: 0.7824727296829224\n"
     ]
    },
    {
     "name": "stderr",
     "output_type": "stream",
     "text": [
      "100%|██████████| 332/332 [00:07<00:00, 43.40it/s]\n"
     ]
    },
    {
     "name": "stdout",
     "output_type": "stream",
     "text": [
      "Loss: 0.7602018713951111\n"
     ]
    },
    {
     "name": "stderr",
     "output_type": "stream",
     "text": [
      "100%|██████████| 332/332 [00:07<00:00, 43.46it/s]\n"
     ]
    },
    {
     "name": "stdout",
     "output_type": "stream",
     "text": [
      "Loss: 0.7024868130683899\n"
     ]
    },
    {
     "name": "stderr",
     "output_type": "stream",
     "text": [
      "100%|██████████| 332/332 [00:07<00:00, 43.60it/s]\n"
     ]
    },
    {
     "name": "stdout",
     "output_type": "stream",
     "text": [
      "Loss: 0.6708623766899109\n"
     ]
    },
    {
     "name": "stderr",
     "output_type": "stream",
     "text": [
      "100%|██████████| 332/332 [00:07<00:00, 43.70it/s]\n"
     ]
    },
    {
     "name": "stdout",
     "output_type": "stream",
     "text": [
      "Loss: 0.606452226638794\n"
     ]
    },
    {
     "name": "stderr",
     "output_type": "stream",
     "text": [
      "100%|██████████| 332/332 [00:07<00:00, 43.55it/s]\n"
     ]
    },
    {
     "name": "stdout",
     "output_type": "stream",
     "text": [
      "Loss: 0.5697213411331177\n"
     ]
    },
    {
     "name": "stderr",
     "output_type": "stream",
     "text": [
      "100%|██████████| 332/332 [00:07<00:00, 43.46it/s]\n"
     ]
    },
    {
     "name": "stdout",
     "output_type": "stream",
     "text": [
      "Loss: 0.5355191826820374\n"
     ]
    },
    {
     "name": "stderr",
     "output_type": "stream",
     "text": [
      "100%|██████████| 332/332 [00:07<00:00, 43.36it/s]\n"
     ]
    },
    {
     "name": "stdout",
     "output_type": "stream",
     "text": [
      "Loss: 0.5133482813835144\n"
     ]
    },
    {
     "name": "stderr",
     "output_type": "stream",
     "text": [
      "100%|██████████| 332/332 [00:07<00:00, 43.70it/s]\n"
     ]
    },
    {
     "name": "stdout",
     "output_type": "stream",
     "text": [
      "Loss: 0.4967331886291504\n"
     ]
    },
    {
     "name": "stderr",
     "output_type": "stream",
     "text": [
      "100%|██████████| 332/332 [00:07<00:00, 43.78it/s]\n"
     ]
    },
    {
     "name": "stdout",
     "output_type": "stream",
     "text": [
      "Loss: 0.45299190282821655\n"
     ]
    },
    {
     "name": "stderr",
     "output_type": "stream",
     "text": [
      "100%|██████████| 332/332 [00:07<00:00, 43.75it/s]"
     ]
    },
    {
     "name": "stdout",
     "output_type": "stream",
     "text": [
      "Loss: 0.42356744408607483\n"
     ]
    },
    {
     "name": "stderr",
     "output_type": "stream",
     "text": [
      "\n"
     ]
    }
   ],
   "source": [
    "SOSToken = 1\n",
    "EOSToken = 2\n",
    "\n",
    "def step(x, y, x_lens, y_lens):\n",
    "    encoder.train(True)\n",
    "    decoder.train(True)\n",
    "    encoder_outputs, decoder_hidden = encoder(x, x_lens) # last encoder hidden state becomes decoder hidden state\n",
    "    decoder_input = torch.full((1, decoder_hidden.shape[1]), english_lang.word2index['SOS'])\n",
    "    # no teacher forcing for now, could add in later\n",
    "    loss = 0\n",
    "    target_length = max(y_lens)\n",
    "    for i in range(target_length):\n",
    "        # decoder_input: (1 x 32 x 1)\n",
    "        # decoder_hidden: (1 x 32 x 256)\n",
    "        decoder_output, decoder_hidden = decoder(decoder_input, decoder_hidden, encoder_outputs)\n",
    "        # decoder_output: (32 x dict_size)\n",
    "        topv, topi = decoder_output.topk(1, dim=1)\n",
    "        decoder_input = topi.transpose(0, 1)\n",
    "        \n",
    "        loss += criterion(decoder_output, y[i, :].squeeze()).sum() \n",
    "        \n",
    "    loss.backward()\n",
    "\n",
    "    encoder_optimizer.step()\n",
    "    decoder_optimizer.step()\n",
    "    encoder_optimizer.zero_grad()\n",
    "    decoder_optimizer.zero_grad()\n",
    "    \n",
    "    return loss.item() / target_length\n",
    "\n",
    "\n",
    "def run_epoch(data_loader):\n",
    "    total_loss = 0\n",
    "    num_iters = 0\n",
    "    for x, y, x_lens, y_lens in tqdm(data_loader):\n",
    "        total_loss += step(x, y, x_lens, y_lens)\n",
    "        num_iters += 1\n",
    "    return total_loss/num_iters\n",
    "\n",
    "def train(data_loader, num_epochs=30):\n",
    "    losses = []\n",
    "    for i in range(num_epochs):\n",
    "        losses.append(run_epoch(data_loader))\n",
    "        print(f\"Loss: {losses[-1]}\")\n",
    "    return losses\n",
    "        \n",
    "losses = train(data_loader, num_epochs=15)"
   ]
  },
  {
   "cell_type": "code",
   "execution_count": 12,
   "id": "8e3eada5-0618-4985-9332-22d7e9ef441d",
   "metadata": {},
   "outputs": [
    {
     "name": "stdout",
     "output_type": "stream",
     "text": [
      "je suis trop affaire . EOS\n",
      "i m too busy . EOS\n",
      "SOS i am too busy too too . . EOS\n",
      "\n",
      "c est une celebre chanteuse . EOS\n",
      "she is a famous singer . EOS\n",
      "SOS she is a famous singer singer . . EOS\n",
      "\n",
      "elles sont chanceuses d etre en vie . EOS\n",
      "they re lucky to be alive . EOS\n",
      "SOS they re lucky to be your alive . EOS\n",
      "\n",
      "je suis desolee de vous avoir derangees ! EOS\n",
      "i m sorry to have bothered you . EOS\n",
      "SOS i m sorry to have bothered you you . EOS\n",
      "\n",
      "je suis fier de mon pere . EOS\n",
      "i m proud of my father . EOS\n",
      "SOS i m proud of my my father . EOS\n",
      "\n",
      "je ne suis pas impressionnee . EOS\n",
      "i m not impressed . EOS\n",
      "SOS i m not impressed impressed . EOS\n",
      "\n",
      "je me sens triste a cause de ca . EOS\n",
      "i am feeling sad about it . EOS\n",
      "SOS i am really sad about about it it . EOS\n",
      "\n",
      "j y songe encore . EOS\n",
      "i m still thinking about it . EOS\n",
      "SOS i m still thinking about it it . EOS\n",
      "\n",
      "elle est deux ans plus vieille que toi . EOS\n",
      "she is two years older than you . EOS\n",
      "SOS she is two years older than you . EOS\n",
      "\n",
      "je suis juste un monsieur tout le monde . EOS\n",
      "i am just a nobody . EOS\n",
      "SOS i am just a to just a teacher . EOS\n",
      "\n"
     ]
    }
   ],
   "source": [
    "def convert_to_lang(sentence, lang):\n",
    "    text = [lang.index2word[sentence[i]] for i in range(len(sentence))]\n",
    "    return ' '.join(text)\n",
    "\n",
    "def eval_on_sentence(x):\n",
    "    encoder.eval()\n",
    "    decoder.eval()\n",
    "    x = x.view(-1, 1)\n",
    "    input = encoder.embedding(x)\n",
    "    x_len = torch.tensor([x.shape[0]])\n",
    "    input = pack_padded_sequence(input, x_len)\n",
    "    encoder_outputs, decoder_hidden = encoder(x, x_len) # last encoder hidden state becomes decoder hidden state\n",
    "    y_pred = [english_lang.word2index['SOS']]\n",
    "    decoder_input = torch.full((1, decoder_hidden.shape[1]), y_pred[-1])\n",
    "\n",
    "    while y_pred[-1]!=EOSToken: # 2 is the EOSToken\n",
    "        decoder_output, decoder_hidden = decoder(decoder_input, decoder_hidden, encoder_outputs)\n",
    "        topv, topi = decoder_output.topk(1, dim=1)\n",
    "        decoder_input = topi.transpose(0, 1)\n",
    "        y_pred.append(topi.item())\n",
    "        \n",
    "    return y_pred\n",
    "        \n",
    "def eval_on_sentences(dataset, lang1, lang2, num=10):\n",
    "    for i in range(num):\n",
    "        idx = random.randrange(len(dataset))\n",
    "        x, y = dataset[idx]\n",
    "        y_pred = eval_on_sentence(x)\n",
    "        print(convert_to_lang(x.numpy(), lang1))\n",
    "        print(convert_to_lang(y.numpy(), lang2))\n",
    "        print(convert_to_lang(y_pred, lang2))\n",
    "        print()\n",
    "              \n",
    "eval_on_sentences(dataset, french_lang, english_lang)"
   ]
  },
  {
   "cell_type": "markdown",
   "id": "f972d770-62b6-4cc9-9c17-6a9d18a638dd",
   "metadata": {},
   "source": [
    "## 2. RNNs with Attention\n",
    "https://arxiv.org/pdf/1409.0473.pdf \\\n",
    "https://github.com/lukysummer/Bahdanau-Attention-in-Pytorch"
   ]
  },
  {
   "cell_type": "code",
   "execution_count": 73,
   "id": "51774a1d-462c-4c69-8d4f-e1b05f611297",
   "metadata": {},
   "outputs": [],
   "source": [
    "class AttentionDecoderRNN(nn.Module):\n",
    "    def __init__(self, dict_size, hidden_size):\n",
    "        super(AttentionDecoderRNN, self).__init__()\n",
    "        self.hidden_size = hidden_size\n",
    "        # 1.\n",
    "        self.embedding = nn.Embedding(dict_size, hidden_size)\n",
    "        # 2.\n",
    "        self.attn_combine = nn.Linear(hidden_size*2, hidden_size)\n",
    "        self.attn_weight = nn.Linear(hidden_size, 1)\n",
    "        # 3.\n",
    "        self.gru = nn.GRU(hidden_size*2, hidden_size)\n",
    "        self.out = nn.Linear(hidden_size, dict_size)\n",
    "        self.softmax = nn.LogSoftmax(dim=1)\n",
    "\n",
    "    def forward(self, x, hidden, encoder_outputs):\n",
    "        # input : 1 x 32 x 256\n",
    "        # hidden: 1 x 32 x 256\n",
    "        # encoder_outputs: sentence_len x 32 x 256\n",
    "        # 1. \n",
    "        input = self.embedding(x)\n",
    "        input = F.relu(input)\n",
    "        # 2. \n",
    "        encoder_outputs = pad_packed_sequence(encoder_outputs)[0]\n",
    "        #print(encoder_outputs.shape)\n",
    "        num_outputs = encoder_outputs.shape[0]\n",
    "        combined_vector = torch.cat((hidden.repeat(num_outputs, 1, 1), encoder_outputs), dim=2)\n",
    "        #print(combined_vector.shape)\n",
    "        combined_vector = F.tanh(self.attn_combine(combined_vector)) # sentence_len x 32 x 256\n",
    "        #print(combined_vector.shape)\n",
    "        self.attn_weights = F.softmax(self.attn_weight(combined_vector), dim=0) # sentence_len x 32 x 1\n",
    "        #print(self.attn_weights.shape)\n",
    "        encoder_outputs_t = encoder_outputs.transpose(0, 1).transpose(1, 2) # 32 x 256 x sentence_len\n",
    "        #print(encoder_outputs_t.shape)\n",
    "        context_vector = torch.bmm(encoder_outputs_t, self.attn_weights.transpose(1, 0)) # 32 x 256 x 1\n",
    "        context_vector = context_vector.transpose(1, 2).transpose(0, 1) # 1 x 32 x 256 \n",
    "        #print(context_vector.shape)\n",
    "        # 3. \n",
    "        input = torch.cat((context_vector, input), dim=2)\n",
    "        output, hidden = self.gru(input, hidden)\n",
    "        output = self.softmax(self.out(output[0]))\n",
    "        return output, hidden"
   ]
  },
  {
   "cell_type": "code",
   "execution_count": 80,
   "id": "e2aa1c80-4038-4d22-b7b3-3144840dc6d6",
   "metadata": {},
   "outputs": [],
   "source": [
    "hidden_size = 256\n",
    "learning_rate = 0.1\n",
    "#encoder = EncoderRNN(french_lang.n_words+1, hidden_size)\n",
    "#decoder = AttentionDecoderRNN(english_lang.n_words+1, hidden_size) #+1 required for padding token (token 0)\n",
    "encoder_optimizer = optim.SGD(encoder.parameters(), lr=learning_rate)\n",
    "decoder_optimizer = optim.SGD(decoder.parameters(), lr=learning_rate)\n",
    "criterion = nn.NLLLoss(ignore_index=0) # should not calculate loss if the ith word is a padding token (0)"
   ]
  },
  {
   "cell_type": "code",
   "execution_count": 81,
   "id": "fa907e2a-6a56-4777-82ef-f8d0073d108c",
   "metadata": {},
   "outputs": [
    {
     "name": "stderr",
     "output_type": "stream",
     "text": [
      "100%|██████████| 332/332 [00:15<00:00, 22.00it/s]\n"
     ]
    },
    {
     "name": "stdout",
     "output_type": "stream",
     "text": [
      "Loss: 1.84750497341156\n"
     ]
    },
    {
     "name": "stderr",
     "output_type": "stream",
     "text": [
      "100%|██████████| 332/332 [00:14<00:00, 22.25it/s]\n"
     ]
    },
    {
     "name": "stdout",
     "output_type": "stream",
     "text": [
      "Loss: 1.4892609119415283\n"
     ]
    },
    {
     "name": "stderr",
     "output_type": "stream",
     "text": [
      "100%|██████████| 332/332 [00:14<00:00, 22.17it/s]\n"
     ]
    },
    {
     "name": "stdout",
     "output_type": "stream",
     "text": [
      "Loss: 1.3214900493621826\n"
     ]
    },
    {
     "name": "stderr",
     "output_type": "stream",
     "text": [
      "100%|██████████| 332/332 [00:15<00:00, 22.09it/s]\n"
     ]
    },
    {
     "name": "stdout",
     "output_type": "stream",
     "text": [
      "Loss: 1.1736665964126587\n"
     ]
    },
    {
     "name": "stderr",
     "output_type": "stream",
     "text": [
      "100%|██████████| 332/332 [00:15<00:00, 22.11it/s]\n"
     ]
    },
    {
     "name": "stdout",
     "output_type": "stream",
     "text": [
      "Loss: 1.0479902029037476\n"
     ]
    },
    {
     "name": "stderr",
     "output_type": "stream",
     "text": [
      "100%|██████████| 332/332 [00:15<00:00, 22.11it/s]\n"
     ]
    },
    {
     "name": "stdout",
     "output_type": "stream",
     "text": [
      "Loss: 0.9010565876960754\n"
     ]
    },
    {
     "name": "stderr",
     "output_type": "stream",
     "text": [
      "100%|██████████| 332/332 [00:14<00:00, 22.20it/s]\n"
     ]
    },
    {
     "name": "stdout",
     "output_type": "stream",
     "text": [
      "Loss: 0.7867129445075989\n"
     ]
    },
    {
     "name": "stderr",
     "output_type": "stream",
     "text": [
      "100%|██████████| 332/332 [00:14<00:00, 22.19it/s]\n"
     ]
    },
    {
     "name": "stdout",
     "output_type": "stream",
     "text": [
      "Loss: 0.6807211637496948\n"
     ]
    },
    {
     "name": "stderr",
     "output_type": "stream",
     "text": [
      "100%|██████████| 332/332 [00:14<00:00, 22.17it/s]\n"
     ]
    },
    {
     "name": "stdout",
     "output_type": "stream",
     "text": [
      "Loss: 0.6312524080276489\n"
     ]
    },
    {
     "name": "stderr",
     "output_type": "stream",
     "text": [
      "100%|██████████| 332/332 [00:15<00:00, 21.98it/s]\n"
     ]
    },
    {
     "name": "stdout",
     "output_type": "stream",
     "text": [
      "Loss: 0.5505753755569458\n"
     ]
    },
    {
     "name": "stderr",
     "output_type": "stream",
     "text": [
      "100%|██████████| 332/332 [00:15<00:00, 21.98it/s]\n"
     ]
    },
    {
     "name": "stdout",
     "output_type": "stream",
     "text": [
      "Loss: 0.46866580843925476\n"
     ]
    },
    {
     "name": "stderr",
     "output_type": "stream",
     "text": [
      "100%|██████████| 332/332 [00:15<00:00, 21.85it/s]\n"
     ]
    },
    {
     "name": "stdout",
     "output_type": "stream",
     "text": [
      "Loss: 0.4180297255516052\n"
     ]
    },
    {
     "name": "stderr",
     "output_type": "stream",
     "text": [
      "100%|██████████| 332/332 [00:14<00:00, 22.15it/s]\n"
     ]
    },
    {
     "name": "stdout",
     "output_type": "stream",
     "text": [
      "Loss: 0.41558676958084106\n"
     ]
    },
    {
     "name": "stderr",
     "output_type": "stream",
     "text": [
      "100%|██████████| 332/332 [00:15<00:00, 22.01it/s]\n"
     ]
    },
    {
     "name": "stdout",
     "output_type": "stream",
     "text": [
      "Loss: 0.38648098707199097\n"
     ]
    },
    {
     "name": "stderr",
     "output_type": "stream",
     "text": [
      "100%|██████████| 332/332 [00:15<00:00, 22.10it/s]"
     ]
    },
    {
     "name": "stdout",
     "output_type": "stream",
     "text": [
      "Loss: 0.3162214756011963\n"
     ]
    },
    {
     "name": "stderr",
     "output_type": "stream",
     "text": [
      "\n"
     ]
    }
   ],
   "source": [
    "losses = train(data_loader, num_epochs=15)"
   ]
  },
  {
   "cell_type": "code",
   "execution_count": 109,
   "id": "79937257-6981-44a8-b511-f201c4de0c65",
   "metadata": {},
   "outputs": [
    {
     "name": "stdout",
     "output_type": "stream",
     "text": [
      "tu es plus grande que moi . EOS\n",
      "you are taller than me . EOS\n",
      "SOS you are taller than i than am am . EOS\n",
      "\n",
      "il est toujours alite . EOS\n",
      "he is still on his back . EOS\n",
      "SOS he is always on on his business . EOS\n",
      "\n",
      "je suis en route pour retourner en ville . EOS\n",
      "i m headed back into town . EOS\n",
      "SOS i m on on town of in town . EOS\n",
      "\n",
      "nous allons jouer au tennis . EOS\n",
      "we re going to play tennis . EOS\n",
      "SOS we re going to play tennis tennis . EOS\n",
      "\n",
      "tu es deprimee n est ce pas ? EOS\n",
      "you re depressed aren t you ? EOS\n",
      "SOS you re depressed aren t you ? EOS\n",
      "\n",
      "je ne suis pas bon pour faire semblant . EOS\n",
      "i m not good at pretending . EOS\n",
      "SOS i m not good at do good . . EOS\n",
      "\n",
      "je suis desole de vous avoir deranges ! EOS\n",
      "i m sorry to have bothered you . EOS\n",
      "SOS i m sorry to have bothered you . . EOS\n",
      "\n",
      "je suis vraiment decu . EOS\n",
      "i m really disappointed . EOS\n",
      "SOS i am really disappointed . EOS\n",
      "\n",
      "je ne suis pas ton serviteur . EOS\n",
      "i m not your servant . EOS\n",
      "SOS i m not your of not your . EOS\n",
      "\n",
      "vous n etes pas normales . EOS\n",
      "you re not normal . EOS\n",
      "SOS you re not normal you . EOS\n",
      "\n"
     ]
    }
   ],
   "source": [
    "eval_on_sentences(dataset, french_lang, english_lang)"
   ]
  },
  {
   "cell_type": "code",
   "execution_count": 124,
   "id": "ad0d9cd8-8d91-47f4-b541-f6fdf099f87e",
   "metadata": {},
   "outputs": [
    {
     "data": {
      "image/png": "[encoded data removed]",
      "text/plain": [
       "<Figure size 720x720 with 1 Axes>"
      ]
     },
     "metadata": {
      "needs_background": "light"
     },
     "output_type": "display_data"
    }
   ],
   "source": [
    "def generate_attention_matrix(x, y, lang1, lang2):\n",
    "    encoder.eval()\n",
    "    decoder.eval()\n",
    "    x = x.view(-1, 1)\n",
    "    input = encoder.embedding(x)\n",
    "    x_len = torch.tensor([x.shape[0]])\n",
    "    input = pack_padded_sequence(input, x_len)\n",
    "    encoder_outputs, decoder_hidden = encoder(x, x_len) # last encoder hidden state becomes decoder hidden state\n",
    "    y_pred = [english_lang.word2index['SOS']]\n",
    "    decoder_input = torch.full((1, decoder_hidden.shape[1]), y_pred[-1])\n",
    "    attention_weights = []\n",
    "    while y_pred[-1]!=EOSToken: # 2 is the EOSToken\n",
    "        decoder_output, decoder_hidden = decoder(decoder_input, decoder_hidden, encoder_outputs)\n",
    "        attention_weights.append(list(decoder.attn_weights.squeeze().detach().numpy()))\n",
    "        topv, topi = decoder_output.topk(1, dim=1)\n",
    "        decoder_input = topi.transpose(0, 1)\n",
    "        y_pred.append(topi.item())\n",
    "    \n",
    "    fig, ax = plt.subplots(figsize=(10, 10))\n",
    "    ax.imshow(attention_weights)\n",
    "    x = [lang1.index2word[x[i, 0].item()] for i in range(len(x))]\n",
    "    y_pred = [lang2.index2word[y_pred[i]] for i in range(len(y_pred))]\n",
    "    ax.set_xticks(range(len(x)), labels=x)\n",
    "    ax.set_yticks(range(len(y_pred)), labels=y_pred)\n",
    "    \n",
    "idx = random.randrange(len(dataset))\n",
    "x, y = dataset[idx]\n",
    "generate_attention_matrix(x, y, french_lang, english_lang)"
   ]
  },
  {
   "cell_type": "code",
   "execution_count": null,
   "id": "5eaa6385-c778-49a8-af26-9a99f4ea947f",
   "metadata": {},
   "outputs": [],
   "source": []
  }
 ],
 "metadata": {
  "kernelspec": {
   "display_name": "torch",
   "language": "python",
   "name": "torch"
  },
  "language_info": {
   "codemirror_mode": {
    "name": "ipython",
    "version": 3
   },
   "file_extension": ".py",
   "mimetype": "text/x-python",
   "name": "python",
   "nbconvert_exporter": "python",
   "pygments_lexer": "ipython3",
   "version": "3.8.12"
  }
 },
 "nbformat": 4,
 "nbformat_minor": 5
}
